{
 "cells": [
  {
   "cell_type": "code",
   "execution_count": 1,
   "id": "ebf381c8",
   "metadata": {},
   "outputs": [],
   "source": [
    "import warnings\n",
    "warnings.filterwarnings('ignore')\n",
    "\n",
    "import pandas as pd\n",
    "import numpy as np\n",
    "\n",
    "from sklearn.pipeline import Pipeline,FeatureUnion\n",
    "from sklearn.base import BaseEstimator,TransformerMixin\n",
    "\n",
    "from mypipes import *"
   ]
  },
  {
   "cell_type": "code",
   "execution_count": 2,
   "id": "a3ece01f",
   "metadata": {},
   "outputs": [],
   "source": [
    "train_file=r'C:\\Users\\chirag\\Desktop\\ML IITK\\ML Intro\\DATA\\rg_train.csv'\n",
    "test_file=r'C:\\Users\\chirag\\Desktop\\ML IITK\\ML Intro\\DATA\\rg_test.csv'\n",
    "\n",
    "bd_train=pd.read_csv(train_file)\n",
    "bd_test=pd.read_csv(test_file)"
   ]
  },
  {
   "cell_type": "code",
   "execution_count": 3,
   "id": "4ab77347",
   "metadata": {},
   "outputs": [
    {
     "data": {
      "text/html": [
       "<div>\n",
       "<style scoped>\n",
       "    .dataframe tbody tr th:only-of-type {\n",
       "        vertical-align: middle;\n",
       "    }\n",
       "\n",
       "    .dataframe tbody tr th {\n",
       "        vertical-align: top;\n",
       "    }\n",
       "\n",
       "    .dataframe thead th {\n",
       "        text-align: right;\n",
       "    }\n",
       "</style>\n",
       "<table border=\"1\" class=\"dataframe\">\n",
       "  <thead>\n",
       "    <tr style=\"text-align: right;\">\n",
       "      <th></th>\n",
       "      <th>REF_NO</th>\n",
       "      <th>children</th>\n",
       "      <th>age_band</th>\n",
       "      <th>status</th>\n",
       "      <th>occupation</th>\n",
       "      <th>occupation_partner</th>\n",
       "      <th>home_status</th>\n",
       "      <th>family_income</th>\n",
       "      <th>self_employed</th>\n",
       "      <th>self_employed_partner</th>\n",
       "      <th>...</th>\n",
       "      <th>Investment.Tax.Saving.Bond</th>\n",
       "      <th>Home.Loan</th>\n",
       "      <th>Online.Purchase.Amount</th>\n",
       "      <th>Revenue.Grid</th>\n",
       "      <th>gender</th>\n",
       "      <th>region</th>\n",
       "      <th>Investment.in.Commudity</th>\n",
       "      <th>Investment.in.Equity</th>\n",
       "      <th>Investment.in.Derivative</th>\n",
       "      <th>Portfolio.Balance</th>\n",
       "    </tr>\n",
       "  </thead>\n",
       "  <tbody>\n",
       "    <tr>\n",
       "      <th>0</th>\n",
       "      <td>2148</td>\n",
       "      <td>1</td>\n",
       "      <td>45-50</td>\n",
       "      <td>Partner</td>\n",
       "      <td>Professional</td>\n",
       "      <td>Professional</td>\n",
       "      <td>Rent Privately</td>\n",
       "      <td>&gt;=35,000</td>\n",
       "      <td>Yes</td>\n",
       "      <td>Yes</td>\n",
       "      <td>...</td>\n",
       "      <td>7.49</td>\n",
       "      <td>2.48</td>\n",
       "      <td>0.0</td>\n",
       "      <td>2</td>\n",
       "      <td>Female</td>\n",
       "      <td>South West</td>\n",
       "      <td>65.87</td>\n",
       "      <td>9.27</td>\n",
       "      <td>30.93</td>\n",
       "      <td>87.48</td>\n",
       "    </tr>\n",
       "    <tr>\n",
       "      <th>1</th>\n",
       "      <td>8099</td>\n",
       "      <td>1</td>\n",
       "      <td>61-65</td>\n",
       "      <td>Partner</td>\n",
       "      <td>Retired</td>\n",
       "      <td>Retired</td>\n",
       "      <td>Own Home</td>\n",
       "      <td>&lt;12,500, &gt;=10,000</td>\n",
       "      <td>No</td>\n",
       "      <td>No</td>\n",
       "      <td>...</td>\n",
       "      <td>0.00</td>\n",
       "      <td>3.99</td>\n",
       "      <td>0.0</td>\n",
       "      <td>2</td>\n",
       "      <td>Female</td>\n",
       "      <td>Unknown</td>\n",
       "      <td>42.46</td>\n",
       "      <td>4.49</td>\n",
       "      <td>26.23</td>\n",
       "      <td>110.73</td>\n",
       "    </tr>\n",
       "    <tr>\n",
       "      <th>2</th>\n",
       "      <td>6611</td>\n",
       "      <td>3</td>\n",
       "      <td>31-35</td>\n",
       "      <td>Partner</td>\n",
       "      <td>Professional</td>\n",
       "      <td>Professional</td>\n",
       "      <td>Own Home</td>\n",
       "      <td>&gt;=35,000</td>\n",
       "      <td>No</td>\n",
       "      <td>No</td>\n",
       "      <td>...</td>\n",
       "      <td>0.00</td>\n",
       "      <td>0.00</td>\n",
       "      <td>0.0</td>\n",
       "      <td>2</td>\n",
       "      <td>Male</td>\n",
       "      <td>East Anglia</td>\n",
       "      <td>75.38</td>\n",
       "      <td>0.00</td>\n",
       "      <td>26.66</td>\n",
       "      <td>127.57</td>\n",
       "    </tr>\n",
       "    <tr>\n",
       "      <th>3</th>\n",
       "      <td>1950</td>\n",
       "      <td>Zero</td>\n",
       "      <td>55-60</td>\n",
       "      <td>Partner</td>\n",
       "      <td>Professional</td>\n",
       "      <td>Professional</td>\n",
       "      <td>Own Home</td>\n",
       "      <td>&gt;=35,000</td>\n",
       "      <td>No</td>\n",
       "      <td>No</td>\n",
       "      <td>...</td>\n",
       "      <td>2.00</td>\n",
       "      <td>0.00</td>\n",
       "      <td>0.0</td>\n",
       "      <td>2</td>\n",
       "      <td>Female</td>\n",
       "      <td>North West</td>\n",
       "      <td>34.78</td>\n",
       "      <td>6.91</td>\n",
       "      <td>29.24</td>\n",
       "      <td>33.79</td>\n",
       "    </tr>\n",
       "    <tr>\n",
       "      <th>4</th>\n",
       "      <td>10857</td>\n",
       "      <td>2</td>\n",
       "      <td>51-55</td>\n",
       "      <td>Partner</td>\n",
       "      <td>Manual Worker</td>\n",
       "      <td>Manual Worker</td>\n",
       "      <td>Own Home</td>\n",
       "      <td>&lt;27,500, &gt;=25,000</td>\n",
       "      <td>Yes</td>\n",
       "      <td>Yes</td>\n",
       "      <td>...</td>\n",
       "      <td>0.00</td>\n",
       "      <td>0.00</td>\n",
       "      <td>0.0</td>\n",
       "      <td>2</td>\n",
       "      <td>Female</td>\n",
       "      <td>South West</td>\n",
       "      <td>48.58</td>\n",
       "      <td>9.58</td>\n",
       "      <td>20.65</td>\n",
       "      <td>56.17</td>\n",
       "    </tr>\n",
       "  </tbody>\n",
       "</table>\n",
       "<p>5 rows × 32 columns</p>\n",
       "</div>"
      ],
      "text/plain": [
       "   REF_NO children age_band   status     occupation occupation_partner  \\\n",
       "0    2148        1    45-50  Partner   Professional       Professional   \n",
       "1    8099        1    61-65  Partner        Retired            Retired   \n",
       "2    6611        3    31-35  Partner   Professional       Professional   \n",
       "3    1950     Zero    55-60  Partner   Professional       Professional   \n",
       "4   10857        2    51-55  Partner  Manual Worker      Manual Worker   \n",
       "\n",
       "      home_status      family_income self_employed self_employed_partner  ...  \\\n",
       "0  Rent Privately           >=35,000           Yes                   Yes  ...   \n",
       "1        Own Home  <12,500, >=10,000            No                    No  ...   \n",
       "2        Own Home           >=35,000            No                    No  ...   \n",
       "3        Own Home           >=35,000            No                    No  ...   \n",
       "4        Own Home  <27,500, >=25,000           Yes                   Yes  ...   \n",
       "\n",
       "   Investment.Tax.Saving.Bond Home.Loan Online.Purchase.Amount Revenue.Grid  \\\n",
       "0                        7.49      2.48                    0.0            2   \n",
       "1                        0.00      3.99                    0.0            2   \n",
       "2                        0.00      0.00                    0.0            2   \n",
       "3                        2.00      0.00                    0.0            2   \n",
       "4                        0.00      0.00                    0.0            2   \n",
       "\n",
       "   gender       region  Investment.in.Commudity  Investment.in.Equity  \\\n",
       "0  Female   South West                    65.87                  9.27   \n",
       "1  Female      Unknown                    42.46                  4.49   \n",
       "2    Male  East Anglia                    75.38                  0.00   \n",
       "3  Female   North West                    34.78                  6.91   \n",
       "4  Female   South West                    48.58                  9.58   \n",
       "\n",
       "   Investment.in.Derivative  Portfolio.Balance  \n",
       "0                     30.93              87.48  \n",
       "1                     26.23             110.73  \n",
       "2                     26.66             127.57  \n",
       "3                     29.24              33.79  \n",
       "4                     20.65              56.17  \n",
       "\n",
       "[5 rows x 32 columns]"
      ]
     },
     "execution_count": 3,
     "metadata": {},
     "output_type": "execute_result"
    }
   ],
   "source": [
    "bd_train.head()"
   ]
  },
  {
   "cell_type": "code",
   "execution_count": 4,
   "id": "5a476004",
   "metadata": {},
   "outputs": [
    {
     "name": "stdout",
     "output_type": "stream",
     "text": [
      "<class 'pandas.core.frame.DataFrame'>\n",
      "RangeIndex: 8124 entries, 0 to 8123\n",
      "Data columns (total 32 columns):\n",
      " #   Column                           Non-Null Count  Dtype  \n",
      "---  ------                           --------------  -----  \n",
      " 0   REF_NO                           8124 non-null   int64  \n",
      " 1   children                         8124 non-null   object \n",
      " 2   age_band                         8124 non-null   object \n",
      " 3   status                           8124 non-null   object \n",
      " 4   occupation                       8124 non-null   object \n",
      " 5   occupation_partner               8124 non-null   object \n",
      " 6   home_status                      8124 non-null   object \n",
      " 7   family_income                    8124 non-null   object \n",
      " 8   self_employed                    8124 non-null   object \n",
      " 9   self_employed_partner            8124 non-null   object \n",
      " 10  year_last_moved                  8124 non-null   int64  \n",
      " 11  TVarea                           8124 non-null   object \n",
      " 12  post_code                        8124 non-null   object \n",
      " 13  post_area                        8124 non-null   object \n",
      " 14  Average.Credit.Card.Transaction  8124 non-null   float64\n",
      " 15  Balance.Transfer                 8124 non-null   float64\n",
      " 16  Term.Deposit                     8124 non-null   float64\n",
      " 17  Life.Insurance                   8124 non-null   float64\n",
      " 18  Medical.Insurance                8124 non-null   float64\n",
      " 19  Average.A.C.Balance              8124 non-null   float64\n",
      " 20  Personal.Loan                    8124 non-null   float64\n",
      " 21  Investment.in.Mutual.Fund        8124 non-null   float64\n",
      " 22  Investment.Tax.Saving.Bond       8124 non-null   float64\n",
      " 23  Home.Loan                        8124 non-null   float64\n",
      " 24  Online.Purchase.Amount           8124 non-null   float64\n",
      " 25  Revenue.Grid                     8124 non-null   int64  \n",
      " 26  gender                           8124 non-null   object \n",
      " 27  region                           8124 non-null   object \n",
      " 28  Investment.in.Commudity          8124 non-null   float64\n",
      " 29  Investment.in.Equity             8124 non-null   float64\n",
      " 30  Investment.in.Derivative         8124 non-null   float64\n",
      " 31  Portfolio.Balance                8124 non-null   float64\n",
      "dtypes: float64(15), int64(3), object(14)\n",
      "memory usage: 2.0+ MB\n"
     ]
    }
   ],
   "source": [
    "bd_train.info()"
   ]
  },
  {
   "cell_type": "code",
   "execution_count": 5,
   "id": "c31590c0",
   "metadata": {},
   "outputs": [],
   "source": [
    "# REF_NO : drop \n",
    "# children : covert zero to 0 and 4+ to 4 then convert to numeric\n",
    "# age_band : 71+->71, Unknown:NA, rest: split and average\n",
    "# status, occupation, occupation_partner, home_status : create dummies with freq cutoff\n",
    "# family_income: string processing to remove (,<,>=), 35000:35000, 4000:4000, unknown:NA, rest: split average\n",
    "# self_employed,self _employed_partner: dummies\n",
    "# year_last_moved: keep as it is\n",
    "# TVarea : dummy\n",
    "# post_code, post_area : drop (should try group categoty on the basis of target variable)\n",
    "# Average.Credit.Card.Transaction, Balance.Transfer, Term.Deposit, Life.Insurance, Medical.Insurance,\n",
    "# Average.A.C.Balance, Personal.Loan,Investment.in.Mutual.Fund,\n",
    "# Investment.Tax.Saving.Bond, Home.Loan, Online.Purchase.Amount,\n",
    "# Investment.in.Commudit, Investment.in.Equity, Investment.in.Derivative, Portfolio.Balance : as it is \n",
    "# revenue.grid : target\n",
    "# gender : dummies\n",
    "# region : dummies"
   ]
  },
  {
   "cell_type": "code",
   "execution_count": 6,
   "id": "65dc8161",
   "metadata": {},
   "outputs": [
    {
     "data": {
      "text/plain": [
       "Index(['REF_NO', 'children', 'age_band', 'status', 'occupation',\n",
       "       'occupation_partner', 'home_status', 'family_income', 'self_employed',\n",
       "       'self_employed_partner', 'year_last_moved', 'TVarea', 'post_code',\n",
       "       'post_area', 'Average.Credit.Card.Transaction', 'Balance.Transfer',\n",
       "       'Term.Deposit', 'Life.Insurance', 'Medical.Insurance',\n",
       "       'Average.A.C.Balance', 'Personal.Loan', 'Investment.in.Mutual.Fund',\n",
       "       'Investment.Tax.Saving.Bond', 'Home.Loan', 'Online.Purchase.Amount',\n",
       "       'Revenue.Grid', 'gender', 'region', 'Investment.in.Commudity',\n",
       "       'Investment.in.Equity', 'Investment.in.Derivative',\n",
       "       'Portfolio.Balance'],\n",
       "      dtype='object')"
      ]
     },
     "execution_count": 6,
     "metadata": {},
     "output_type": "execute_result"
    }
   ],
   "source": [
    "bd_train.columns"
   ]
  },
  {
   "cell_type": "code",
   "execution_count": 7,
   "id": "17f4c6cb",
   "metadata": {},
   "outputs": [],
   "source": [
    "num_vars = list(bd_train.select_dtypes(exclude=['object']).columns)"
   ]
  },
  {
   "cell_type": "code",
   "execution_count": 8,
   "id": "a46da6c5",
   "metadata": {},
   "outputs": [
    {
     "data": {
      "text/plain": [
       "['REF_NO',\n",
       " 'year_last_moved',\n",
       " 'Average.Credit.Card.Transaction',\n",
       " 'Balance.Transfer',\n",
       " 'Term.Deposit',\n",
       " 'Life.Insurance',\n",
       " 'Medical.Insurance',\n",
       " 'Average.A.C.Balance',\n",
       " 'Personal.Loan',\n",
       " 'Investment.in.Mutual.Fund',\n",
       " 'Investment.Tax.Saving.Bond',\n",
       " 'Home.Loan',\n",
       " 'Online.Purchase.Amount',\n",
       " 'Revenue.Grid',\n",
       " 'Investment.in.Commudity',\n",
       " 'Investment.in.Equity',\n",
       " 'Investment.in.Derivative',\n",
       " 'Portfolio.Balance']"
      ]
     },
     "execution_count": 8,
     "metadata": {},
     "output_type": "execute_result"
    }
   ],
   "source": [
    "num_vars"
   ]
  },
  {
   "cell_type": "code",
   "execution_count": 9,
   "id": "096a3589",
   "metadata": {},
   "outputs": [],
   "source": [
    "num_vars=[_ for _ in num_vars if _ not in ['REF_NO','Revenue.Grid']]"
   ]
  },
  {
   "cell_type": "code",
   "execution_count": 10,
   "id": "27fa5e89",
   "metadata": {},
   "outputs": [
    {
     "data": {
      "text/plain": [
       "['year_last_moved',\n",
       " 'Average.Credit.Card.Transaction',\n",
       " 'Balance.Transfer',\n",
       " 'Term.Deposit',\n",
       " 'Life.Insurance',\n",
       " 'Medical.Insurance',\n",
       " 'Average.A.C.Balance',\n",
       " 'Personal.Loan',\n",
       " 'Investment.in.Mutual.Fund',\n",
       " 'Investment.Tax.Saving.Bond',\n",
       " 'Home.Loan',\n",
       " 'Online.Purchase.Amount',\n",
       " 'Investment.in.Commudity',\n",
       " 'Investment.in.Equity',\n",
       " 'Investment.in.Derivative',\n",
       " 'Portfolio.Balance']"
      ]
     },
     "execution_count": 10,
     "metadata": {},
     "output_type": "execute_result"
    }
   ],
   "source": [
    "num_vars"
   ]
  },
  {
   "cell_type": "code",
   "execution_count": 11,
   "id": "70299dd2",
   "metadata": {},
   "outputs": [],
   "source": [
    "cat_vars=list(bd_train.select_dtypes(include=['object']).columns)"
   ]
  },
  {
   "cell_type": "code",
   "execution_count": 12,
   "id": "22d5056c",
   "metadata": {},
   "outputs": [
    {
     "data": {
      "text/plain": [
       "['children',\n",
       " 'age_band',\n",
       " 'status',\n",
       " 'occupation',\n",
       " 'occupation_partner',\n",
       " 'home_status',\n",
       " 'family_income',\n",
       " 'self_employed',\n",
       " 'self_employed_partner',\n",
       " 'TVarea',\n",
       " 'post_code',\n",
       " 'post_area',\n",
       " 'gender',\n",
       " 'region']"
      ]
     },
     "execution_count": 12,
     "metadata": {},
     "output_type": "execute_result"
    }
   ],
   "source": [
    "cat_vars"
   ]
  },
  {
   "cell_type": "code",
   "execution_count": 13,
   "id": "35864461",
   "metadata": {},
   "outputs": [],
   "source": [
    "cat_vars=[_ for _ in cat_vars if _ not in \n",
    "         ['children','age_band','post_code','post_area','family_income']]"
   ]
  },
  {
   "cell_type": "code",
   "execution_count": 14,
   "id": "2e2e6a46",
   "metadata": {},
   "outputs": [
    {
     "data": {
      "text/plain": [
       "['status',\n",
       " 'occupation',\n",
       " 'occupation_partner',\n",
       " 'home_status',\n",
       " 'self_employed',\n",
       " 'self_employed_partner',\n",
       " 'TVarea',\n",
       " 'gender',\n",
       " 'region']"
      ]
     },
     "execution_count": 14,
     "metadata": {},
     "output_type": "execute_result"
    }
   ],
   "source": [
    "cat_vars"
   ]
  },
  {
   "cell_type": "code",
   "execution_count": 15,
   "id": "5f9caa55",
   "metadata": {},
   "outputs": [],
   "source": [
    "p1=pdPipeline([\n",
    "    ('var_select',VarSelector(num_vars)),\n",
    "    ('missing_trt',DataFrameImputer())\n",
    "])\n",
    "\n",
    "p2=pdPipeline([\n",
    "    ('var_select',VarSelector(cat_vars)),\n",
    "    ('missing_trt',DataFrameImputer()),\n",
    "    ('create_dummies',get_dummies_Pipe(70))\n",
    "])\n",
    "\n",
    "p3=pdPipeline([\n",
    "    ('var_select',VarSelector(['age_band'])),\n",
    "    ('custom_fico',custom_age_band()),\n",
    "    ('missing_trt',DataFrameImputer())\n",
    "])\n",
    "\n",
    "p4=pdPipeline([\n",
    "    ('var_select',VarSelector(['family_income'])),\n",
    "    ('custom_fico',custom_family_income()),\n",
    "    ('missing_trt',DataFrameImputer())\n",
    "])\n",
    "\n",
    "p5=pdPipeline([\n",
    "    ('var_select',VarSelector(['children'])),\n",
    "    ('string_clean1',string_clean(replace_it='Zero',replace_with='0')),\n",
    "    ('string_clean2',string_clean(replace_it='4+',replace_with='4')),\n",
    "    ('convert_to_numeric',convert_to_numeric()),\n",
    "    ('missing_trt',DataFrameImputer())\n",
    "])"
   ]
  },
  {
   "cell_type": "code",
   "execution_count": 16,
   "id": "725b1b14",
   "metadata": {},
   "outputs": [],
   "source": [
    "data_pipe=FeatureUnion([\n",
    "    ('num',p1),\n",
    "    ('obj_to_dum',p2),\n",
    "    ('age_band',p3),\n",
    "    ('family_income',p4),\n",
    "    ('children',p5)\n",
    "])"
   ]
  },
  {
   "cell_type": "code",
   "execution_count": 17,
   "id": "eb114db6",
   "metadata": {},
   "outputs": [],
   "source": [
    "x_train=pd.DataFrame(data=data_pipe.fit_transform(bd_train),\n",
    "                    columns=data_pipe.get_feature_names())"
   ]
  },
  {
   "cell_type": "code",
   "execution_count": 18,
   "id": "8fc4e32f",
   "metadata": {},
   "outputs": [],
   "source": [
    "x_test=pd.DataFrame(data=data_pipe.transform(bd_test),\n",
    "                   columns=data_pipe.get_feature_names())"
   ]
  },
  {
   "cell_type": "code",
   "execution_count": 19,
   "id": "a24cee18",
   "metadata": {},
   "outputs": [
    {
     "data": {
      "text/plain": [
       "2    7261\n",
       "1     863\n",
       "Name: Revenue.Grid, dtype: int64"
      ]
     },
     "execution_count": 19,
     "metadata": {},
     "output_type": "execute_result"
    }
   ],
   "source": [
    "bd_train['Revenue.Grid'].value_counts(dropna=False)"
   ]
  },
  {
   "cell_type": "code",
   "execution_count": 20,
   "id": "46381021",
   "metadata": {},
   "outputs": [],
   "source": [
    "y_train=(bd_train['Revenue.Grid']==1).astype(int)"
   ]
  },
  {
   "cell_type": "code",
   "execution_count": 21,
   "id": "7bf2a9c2",
   "metadata": {},
   "outputs": [
    {
     "data": {
      "text/plain": [
       "(8124, 71)"
      ]
     },
     "execution_count": 21,
     "metadata": {},
     "output_type": "execute_result"
    }
   ],
   "source": [
    "x_train.shape"
   ]
  },
  {
   "cell_type": "code",
   "execution_count": 22,
   "id": "da7de91d",
   "metadata": {},
   "outputs": [
    {
     "data": {
      "text/plain": [
       "(2031, 71)"
      ]
     },
     "execution_count": 22,
     "metadata": {},
     "output_type": "execute_result"
    }
   ],
   "source": [
    "x_test.shape"
   ]
  },
  {
   "cell_type": "code",
   "execution_count": 23,
   "id": "1890ac69",
   "metadata": {},
   "outputs": [],
   "source": [
    "from sklearn.linear_model import LogisticRegression"
   ]
  },
  {
   "cell_type": "code",
   "execution_count": 24,
   "id": "3d5b0e7b",
   "metadata": {},
   "outputs": [],
   "source": [
    "params={'class_weight':['balanced',None],\n",
    "        'penalty':['l2'],\n",
    "        'C':[0.0001,0.0005,0.001,0.005,0.01,0.05,0.1,1,2,5] \n",
    "}"
   ]
  },
  {
   "cell_type": "code",
   "execution_count": 25,
   "id": "5068905f",
   "metadata": {},
   "outputs": [],
   "source": [
    "model=LogisticRegression(fit_intercept=True)"
   ]
  },
  {
   "cell_type": "code",
   "execution_count": 26,
   "id": "02211804",
   "metadata": {},
   "outputs": [],
   "source": [
    "from sklearn.model_selection import GridSearchCV"
   ]
  },
  {
   "cell_type": "code",
   "execution_count": 27,
   "id": "9a93dd8f",
   "metadata": {},
   "outputs": [],
   "source": [
    "grid_search=GridSearchCV(model,\n",
    "                        param_grid=params,\n",
    "                        cv=10,\n",
    "                        scoring=\"roc_auc\",\n",
    "                        n_jobs=-1,\n",
    "                        verbose=20)"
   ]
  },
  {
   "cell_type": "code",
   "execution_count": 28,
   "id": "89caff41",
   "metadata": {},
   "outputs": [
    {
     "name": "stdout",
     "output_type": "stream",
     "text": [
      "Fitting 10 folds for each of 20 candidates, totalling 200 fits\n"
     ]
    },
    {
     "data": {
      "text/plain": [
       "GridSearchCV(cv=10, estimator=LogisticRegression(), n_jobs=-1,\n",
       "             param_grid={'C': [0.0001, 0.0005, 0.001, 0.005, 0.01, 0.05, 0.1, 1,\n",
       "                               2, 5],\n",
       "                         'class_weight': ['balanced', None],\n",
       "                         'penalty': ['l2']},\n",
       "             scoring='roc_auc', verbose=20)"
      ]
     },
     "execution_count": 28,
     "metadata": {},
     "output_type": "execute_result"
    }
   ],
   "source": [
    "grid_search.fit(x_train,y_train)"
   ]
  },
  {
   "cell_type": "code",
   "execution_count": 29,
   "id": "165efb0a",
   "metadata": {},
   "outputs": [
    {
     "data": {
      "text/plain": [
       "LogisticRegression(C=0.0005, class_weight='balanced')"
      ]
     },
     "execution_count": 29,
     "metadata": {},
     "output_type": "execute_result"
    }
   ],
   "source": [
    "grid_search.best_estimator_"
   ]
  },
  {
   "cell_type": "code",
   "execution_count": 30,
   "id": "2d0af774",
   "metadata": {},
   "outputs": [],
   "source": [
    "logr=grid_search.best_estimator_"
   ]
  },
  {
   "cell_type": "code",
   "execution_count": 31,
   "id": "c80b2d0a",
   "metadata": {},
   "outputs": [],
   "source": [
    "def report(results,n_top=3):\n",
    "    for i in range(1,n_top+1):\n",
    "        candidates=np.flatnonzero(results['rank_test_score']==i)\n",
    "        for candidate in candidates:\n",
    "            print(\"Model with rank: {0}\".format(i))\n",
    "            print(\"Mean Validation Score: {0:.6f} (std: {1:.6f})\".format(\n",
    "                    results['mean_test_score'][candidate],\n",
    "                    results['std_test_score'][candidate]))\n",
    "            print(\"Parameters: {0}\".format(results['params'][candidate]))\n",
    "            print(\"\")"
   ]
  },
  {
   "cell_type": "code",
   "execution_count": 32,
   "id": "ae5f3e46",
   "metadata": {},
   "outputs": [
    {
     "name": "stdout",
     "output_type": "stream",
     "text": [
      "Model with rank: 1\n",
      "Mean Validation Score: 0.951928 (std: 0.013743)\n",
      "Parameters: {'C': 0.0005, 'class_weight': 'balanced', 'penalty': 'l2'}\n",
      "\n",
      "Model with rank: 2\n",
      "Mean Validation Score: 0.951387 (std: 0.013879)\n",
      "Parameters: {'C': 0.05, 'class_weight': 'balanced', 'penalty': 'l2'}\n",
      "\n",
      "Model with rank: 3\n",
      "Mean Validation Score: 0.950887 (std: 0.013145)\n",
      "Parameters: {'C': 0.005, 'class_weight': 'balanced', 'penalty': 'l2'}\n",
      "\n",
      "Model with rank: 4\n",
      "Mean Validation Score: 0.950519 (std: 0.013933)\n",
      "Parameters: {'C': 0.0001, 'class_weight': 'balanced', 'penalty': 'l2'}\n",
      "\n",
      "Model with rank: 5\n",
      "Mean Validation Score: 0.950274 (std: 0.013001)\n",
      "Parameters: {'C': 2, 'class_weight': 'balanced', 'penalty': 'l2'}\n",
      "\n"
     ]
    }
   ],
   "source": [
    "report(grid_search.cv_results_,5)"
   ]
  },
  {
   "cell_type": "code",
   "execution_count": 33,
   "id": "c8660103",
   "metadata": {},
   "outputs": [
    {
     "data": {
      "text/plain": [
       "LogisticRegression(C=0.0005, class_weight='balanced')"
      ]
     },
     "execution_count": 33,
     "metadata": {},
     "output_type": "execute_result"
    }
   ],
   "source": [
    "logr.fit(x_train,y_train)"
   ]
  },
  {
   "cell_type": "code",
   "execution_count": 34,
   "id": "1b15e71c",
   "metadata": {},
   "outputs": [
    {
     "data": {
      "text/plain": [
       "0"
      ]
     },
     "execution_count": 34,
     "metadata": {},
     "output_type": "execute_result"
    }
   ],
   "source": [
    "(logr.coef_[0]==0).sum()"
   ]
  },
  {
   "cell_type": "code",
   "execution_count": 35,
   "id": "65981a72",
   "metadata": {},
   "outputs": [
    {
     "data": {
      "text/plain": [
       "[('num__year_last_moved', -0.0010428745965502585),\n",
       " ('num__Average.Credit.Card.Transaction', 0.021084288096046972),\n",
       " ('num__Balance.Transfer', -0.007306171394717334),\n",
       " ('num__Term.Deposit', -0.018671109275666974),\n",
       " ('num__Life.Insurance', 0.010549665723859862),\n",
       " ('num__Medical.Insurance', -0.009707844462505421),\n",
       " ('num__Average.A.C.Balance', -0.010223827707548734),\n",
       " ('num__Personal.Loan', -0.037292768069571984),\n",
       " ('num__Investment.in.Mutual.Fund', -0.00275690741807666),\n",
       " ('num__Investment.Tax.Saving.Bond', 0.08484068095676131),\n",
       " ('num__Home.Loan', -0.019110033108242868),\n",
       " ('num__Online.Purchase.Amount', 0.04913562751860154),\n",
       " ('num__Investment.in.Commudity', -0.000810247290492203),\n",
       " ('num__Investment.in.Equity', 0.010764840905584286),\n",
       " ('num__Investment.in.Derivative', 0.005902415551826779),\n",
       " ('num__Portfolio.Balance', 0.004930157609549365),\n",
       " ('obj_to_dum__status_Partner', 0.00014511594945676792),\n",
       " ('obj_to_dum__status_Single/Never Married', -1.0852266405570701e-05),\n",
       " ('obj_to_dum__status_Divorced/Separated', -4.9083860839651845e-05),\n",
       " ('obj_to_dum__status_Widowed', -0.00016560102859974822),\n",
       " ('obj_to_dum__occupation_Professional', -3.692358497104498e-05),\n",
       " ('obj_to_dum__occupation_Retired', -9.639567154961818e-05),\n",
       " ('obj_to_dum__occupation_Secretarial/Admin', -0.0001642031347730405),\n",
       " ('obj_to_dum__occupation_Housewife', -5.329638267398562e-06),\n",
       " ('obj_to_dum__occupation_Business Manager', 0.00010558432372317825),\n",
       " ('obj_to_dum__occupation_Manual Worker', 6.922189891016684e-05),\n",
       " ('obj_to_dum__occupation_Unknown', 4.362995733856666e-05),\n",
       " ('obj_to_dum__occupation_Other', -1.4969629982555738e-05),\n",
       " ('obj_to_dum__occupation_partner_Unknown', -0.00013592819954023108),\n",
       " ('obj_to_dum__occupation_partner_Professional', 9.537158287982071e-05),\n",
       " ('obj_to_dum__occupation_partner_Retired', -0.000177804684225131),\n",
       " ('obj_to_dum__occupation_partner_Manual Worker', 6.232743004806376e-05),\n",
       " ('obj_to_dum__occupation_partner_Business Manager', -1.3468772698801252e-05),\n",
       " ('obj_to_dum__occupation_partner_Secretarial/Admin', 8.040753158777077e-05),\n",
       " ('obj_to_dum__occupation_partner_Housewife', -7.286424235138844e-05),\n",
       " ('obj_to_dum__occupation_partner_Other', 3.2967992989926685e-05),\n",
       " ('obj_to_dum__home_status_Own Home', -7.890994382479131e-06),\n",
       " ('obj_to_dum__home_status_Rent from Council/HA', 7.908607159932851e-06),\n",
       " ('obj_to_dum__home_status_Rent Privately', -4.283418197812417e-05),\n",
       " ('obj_to_dum__home_status_Live in Parental Hom', -3.189768894721068e-05),\n",
       " ('obj_to_dum__self_employed_No', -0.00024980400178789043),\n",
       " ('obj_to_dum__self_employed_partner_No', -0.0003118161431569965),\n",
       " ('obj_to_dum__TVarea_Central', -7.230237349783699e-05),\n",
       " ('obj_to_dum__TVarea_Carlton', -9.626736383554808e-05),\n",
       " ('obj_to_dum__TVarea_Meridian', -0.00024197109714628906),\n",
       " ('obj_to_dum__TVarea_Yorkshire', 0.00012055282435855445),\n",
       " ('obj_to_dum__TVarea_Granada', 5.889445405248672e-05),\n",
       " ('obj_to_dum__TVarea_HTV', -7.954745167371739e-05),\n",
       " ('obj_to_dum__TVarea_Anglia', -1.4120665397808935e-05),\n",
       " ('obj_to_dum__TVarea_Tyne Tees', 3.7679329980424203e-06),\n",
       " ('obj_to_dum__TVarea_Scottish TV', 0.00012198851991964092),\n",
       " ('obj_to_dum__TVarea_TV South West', 5.494942506162828e-05),\n",
       " ('obj_to_dum__TVarea_Grampian', -5.281676843383523e-06),\n",
       " ('obj_to_dum__TVarea_Unknown', 1.2720355808813551e-05),\n",
       " ('obj_to_dum__TVarea_Ulster', 1.6256847084295168e-06),\n",
       " ('obj_to_dum__gender_Female', -0.00026577031509854234),\n",
       " ('obj_to_dum__gender_Male', 0.00010901610399139773),\n",
       " ('obj_to_dum__region_South East', -0.0001700013977259887),\n",
       " ('obj_to_dum__region_North West', -0.00013730583730040317),\n",
       " ('obj_to_dum__region_Unknown', 0.00012448025600697647),\n",
       " ('obj_to_dum__region_South West', -2.4782296751346292e-05),\n",
       " ('obj_to_dum__region_West Midlands', -6.887109840655677e-05),\n",
       " ('obj_to_dum__region_Scotland', 0.00010098461285096259),\n",
       " ('obj_to_dum__region_East Midlands', 1.8827272043725882e-05),\n",
       " ('obj_to_dum__region_North', -9.042932170269095e-06),\n",
       " ('obj_to_dum__region_Wales', 2.5076984746552038e-05),\n",
       " ('obj_to_dum__region_East Anglia', 2.2694564912076193e-05),\n",
       " ('obj_to_dum__region_Northern Ireland', 1.6256847084295168e-06),\n",
       " ('age_band__age_band', -0.008657707312477805),\n",
       " ('family_income__fi', -1.7593940720850118e-06),\n",
       " ('children__children', -1.3970375425736204e-05)]"
      ]
     },
     "execution_count": 35,
     "metadata": {},
     "output_type": "execute_result"
    }
   ],
   "source": [
    "list(zip(x_train.columns,logr.coef_[0]))"
   ]
  },
  {
   "cell_type": "code",
   "execution_count": 36,
   "id": "a103175b",
   "metadata": {},
   "outputs": [
    {
     "data": {
      "text/plain": [
       "array([[0.98748641, 0.01251359],\n",
       "       [0.9535428 , 0.0464572 ],\n",
       "       [0.96344557, 0.03655443],\n",
       "       ...,\n",
       "       [0.96315592, 0.03684408],\n",
       "       [0.69238443, 0.30761557],\n",
       "       [0.7856795 , 0.2143205 ]])"
      ]
     },
     "execution_count": 36,
     "metadata": {},
     "output_type": "execute_result"
    }
   ],
   "source": [
    "logr.predict_proba(x_test)"
   ]
  },
  {
   "cell_type": "code",
   "execution_count": 37,
   "id": "38222798",
   "metadata": {},
   "outputs": [
    {
     "data": {
      "text/plain": [
       "array([0, 1])"
      ]
     },
     "execution_count": 37,
     "metadata": {},
     "output_type": "execute_result"
    }
   ],
   "source": [
    "logr.classes_"
   ]
  },
  {
   "cell_type": "code",
   "execution_count": 38,
   "id": "afaf0fef",
   "metadata": {},
   "outputs": [
    {
     "data": {
      "text/plain": [
       "array([0.001     , 0.01109184, 0.02118367, 0.03127551, 0.04136735,\n",
       "       0.05145918, 0.06155102, 0.07164286, 0.08173469, 0.09182653,\n",
       "       0.10191837, 0.1120102 , 0.12210204, 0.13219388, 0.14228571,\n",
       "       0.15237755, 0.16246939, 0.17256122, 0.18265306, 0.1927449 ,\n",
       "       0.20283673, 0.21292857, 0.22302041, 0.23311224, 0.24320408,\n",
       "       0.25329592, 0.26338776, 0.27347959, 0.28357143, 0.29366327,\n",
       "       0.3037551 , 0.31384694, 0.32393878, 0.33403061, 0.34412245,\n",
       "       0.35421429, 0.36430612, 0.37439796, 0.3844898 , 0.39458163,\n",
       "       0.40467347, 0.41476531, 0.42485714, 0.43494898, 0.44504082,\n",
       "       0.45513265, 0.46522449, 0.47531633, 0.48540816, 0.4955    ,\n",
       "       0.50559184, 0.51568367, 0.52577551, 0.53586735, 0.54595918,\n",
       "       0.55605102, 0.56614286, 0.57623469, 0.58632653, 0.59641837,\n",
       "       0.6065102 , 0.61660204, 0.62669388, 0.63678571, 0.64687755,\n",
       "       0.65696939, 0.66706122, 0.67715306, 0.6872449 , 0.69733673,\n",
       "       0.70742857, 0.71752041, 0.72761224, 0.73770408, 0.74779592,\n",
       "       0.75788776, 0.76797959, 0.77807143, 0.78816327, 0.7982551 ,\n",
       "       0.80834694, 0.81843878, 0.82853061, 0.83862245, 0.84871429,\n",
       "       0.85880612, 0.86889796, 0.8789898 , 0.88908163, 0.89917347,\n",
       "       0.90926531, 0.91935714, 0.92944898, 0.93954082, 0.94963265,\n",
       "       0.95972449, 0.96981633, 0.97990816, 0.99      ])"
      ]
     },
     "execution_count": 38,
     "metadata": {},
     "output_type": "execute_result"
    }
   ],
   "source": [
    "cutoffs=np.linspace(0.001,0.99,99)\n",
    "\n",
    "cutoffs"
   ]
  },
  {
   "cell_type": "code",
   "execution_count": 39,
   "id": "6e2f7f9a",
   "metadata": {},
   "outputs": [
    {
     "data": {
      "text/plain": [
       "array([[0.9885378 , 0.0114622 ],\n",
       "       [0.85351196, 0.14648804],\n",
       "       [0.92643243, 0.07356757],\n",
       "       ...,\n",
       "       [0.47197348, 0.52802652],\n",
       "       [0.9455578 , 0.0544422 ],\n",
       "       [0.98365497, 0.01634503]])"
      ]
     },
     "execution_count": 39,
     "metadata": {},
     "output_type": "execute_result"
    }
   ],
   "source": [
    "logr.predict_proba(x_train)"
   ]
  },
  {
   "cell_type": "code",
   "execution_count": 41,
   "id": "bcf37ae2",
   "metadata": {},
   "outputs": [
    {
     "data": {
      "text/plain": [
       "array([0, 1])"
      ]
     },
     "execution_count": 41,
     "metadata": {},
     "output_type": "execute_result"
    }
   ],
   "source": [
    "logr.classes_"
   ]
  },
  {
   "cell_type": "code",
   "execution_count": 42,
   "id": "e2c54d8f",
   "metadata": {},
   "outputs": [],
   "source": [
    "train_score=logr.predict_proba(x_train)[:,1]"
   ]
  },
  {
   "cell_type": "code",
   "execution_count": 43,
   "id": "c7ad1ee5",
   "metadata": {},
   "outputs": [],
   "source": [
    "real=y_train"
   ]
  },
  {
   "cell_type": "code",
   "execution_count": 44,
   "id": "2081d87f",
   "metadata": {},
   "outputs": [
    {
     "data": {
      "text/plain": [
       "array([0, 0, 0, ..., 1, 0, 0])"
      ]
     },
     "execution_count": 44,
     "metadata": {},
     "output_type": "execute_result"
    }
   ],
   "source": [
    "(train_score>0.2).astype(int)"
   ]
  },
  {
   "cell_type": "code",
   "execution_count": 45,
   "id": "58c104c1",
   "metadata": {},
   "outputs": [],
   "source": [
    "KS_all=[]\n",
    "\n",
    "for cutoff in cutoffs:\n",
    "    \n",
    "    predicted=(train_score>cutoff).astype(int)\n",
    "    \n",
    "    TP=((predicted==1) & (real==1)).sum()\n",
    "    TN=((predicted==0) & (real==0)).sum()\n",
    "    FP=((predicted==1) & (real==0)).sum()\n",
    "    FN=((predicted==0) & (real==1)).sum()\n",
    "    \n",
    "    P=TP+FN\n",
    "    N=TN+FP\n",
    "    \n",
    "    KS=(TP/P)-(FP/N)\n",
    "    \n",
    "    KS_all.append(KS)\n",
    "    "
   ]
  },
  {
   "cell_type": "code",
   "execution_count": 46,
   "id": "4f09f5b4",
   "metadata": {},
   "outputs": [
    {
     "data": {
      "text/plain": [
       "[(0.001, 0.033466464674287266),\n",
       " (0.011091836734693876, 0.09824339719988517),\n",
       " (0.021183673469387754, 0.14688306853085653),\n",
       " (0.03127551020408163, 0.20097465099901168),\n",
       " (0.04136734693877551, 0.25024596077745476),\n",
       " (0.05145918367346938, 0.30466995933608065),\n",
       " (0.061551020408163265, 0.3698125016856192),\n",
       " (0.07164285714285713, 0.43627529286687416),\n",
       " (0.08173469387755102, 0.4946124815140428),\n",
       " (0.0918265306122449, 0.5373301035405106),\n",
       " (0.10191836734693877, 0.572473011340288),\n",
       " (0.11201020408163265, 0.6017508417723347),\n",
       " (0.12210204081632653, 0.6238671242082376),\n",
       " (0.1321938775510204, 0.6481062097336474),\n",
       " (0.14228571428571427, 0.6635548605440293),\n",
       " (0.15237755102040815, 0.6796113715985799),\n",
       " (0.16246938775510203, 0.6900450557056278),\n",
       " (0.1725612244897959, 0.7023830706852574),\n",
       " (0.1826530612244898, 0.7126552545121534),\n",
       " (0.19274489795918365, 0.7199213308516761),\n",
       " (0.20283673469387753, 0.7293671822174786),\n",
       " (0.2129285714285714, 0.7383191172126584),\n",
       " (0.2230204081632653, 0.7448728049646336),\n",
       " (0.23311224489795918, 0.7493274678304049),\n",
       " (0.24320408163265306, 0.7557434335055312),\n",
       " (0.25329591836734694, 0.7625725654112041),\n",
       " (0.2633877551020408, 0.7667280059199747),\n",
       " (0.27347959183673465, 0.7703325581213496),\n",
       " (0.28357142857142853, 0.7758414411953063),\n",
       " (0.2936632653061224, 0.7796406874103031),\n",
       " (0.3037551020408163, 0.7844609601000153),\n",
       " (0.3138469387755102, 0.788260206315012),\n",
       " (0.32393877551020406, 0.7919217304531598),\n",
       " (0.33403061224489794, 0.7932657574881792),\n",
       " (0.3441224489795918, 0.7940019242790297),\n",
       " (0.3542142857142857, 0.7958730614181415),\n",
       " (0.3643061224489796, 0.8008310561847026),\n",
       " (0.37439795918367347, 0.8027829434638906),\n",
       " (0.3844897959183673, 0.8011778349483096),\n",
       " (0.3945816326530612, 0.8040130266253639),\n",
       " (0.40467346938775506, 0.8050008593666094),\n",
       " (0.41476530612244894, 0.805518553940535),\n",
       " (0.4248571428571428, 0.8062309425280827),\n",
       " (0.4349489795918367, 0.8060030547809909),\n",
       " (0.4450408163265306, 0.8080119139969516),\n",
       " (0.45513265306122447, 0.8085865805076503),\n",
       " (0.46522448979591835, 0.8118349384152515),\n",
       " (0.47531632653061223, 0.8098974138091996),\n",
       " (0.4854081632653061, 0.8093703037051069),\n",
       " (0.49549999999999994, 0.8122624673189343),\n",
       " (0.5055918367346939, 0.8096933042654108),\n",
       " (0.5156836734693877, 0.8087530279307713),\n",
       " (0.5257755102040816, 0.8080312238130567),\n",
       " (0.5358673469387755, 0.8111988315805818),\n",
       " (0.5459591836734693, 0.8097884170786227),\n",
       " (0.5560510204081632, 0.807689392192419),\n",
       " (0.5661428571428571, 0.8055333953694424),\n",
       " (0.576234693877551, 0.8018054837643545),\n",
       " (0.5863265306122448, 0.8024371222118261),\n",
       " (0.5964183673469388, 0.8024609004151292),\n",
       " (0.6065102040816326, 0.7983198225794945),\n",
       " (0.6166020408163265, 0.7922744138712783),\n",
       " (0.6266938775510204, 0.7913341375366387),\n",
       " (0.6367857142857143, 0.7883518082525686),\n",
       " (0.6468775510204081, 0.7858396171358181),\n",
       " (0.6569693877551019, 0.7879861984286278),\n",
       " (0.6670612244897959, 0.7835127045025224),\n",
       " (0.6771530612244897, 0.7806680972953012),\n",
       " (0.6872448979591836, 0.7815182079596977),\n",
       " (0.6973367346938775, 0.7745894948536148),\n",
       " (0.7074285714285714, 0.7695651126201138),\n",
       " (0.7175204081632652, 0.7667205054128925),\n",
       " (0.7276122448979592, 0.7610075127951469),\n",
       " (0.737704081632653, 0.75761201728053),\n",
       " (0.7477959183673469, 0.7491683613291089),\n",
       " (0.7578877551020408, 0.740724705377688),\n",
       " (0.7679795918367346, 0.7283346656042544),\n",
       " (0.7780714285714285, 0.715669181677123),\n",
       " (0.7881632653061224, 0.7008239227237117),\n",
       " (0.7982551020408163, 0.6977038713627927),\n",
       " (0.8083469387755101, 0.6882391889366564),\n",
       " (0.818438775510204, 0.6744149564579605),\n",
       " (0.8285306122448979, 0.6611416122866605),\n",
       " (0.8386224489795918, 0.6505181813089598),\n",
       " (0.8487142857142856, 0.6417990812038409),\n",
       " (0.8588061224489796, 0.6269538222504298),\n",
       " (0.8688979591836734, 0.6134620058622049),\n",
       " (0.8789897959183672, 0.5993053572930382),\n",
       " (0.8890816326530612, 0.5867775954427558),\n",
       " (0.899173469387755, 0.5712437261051),\n",
       " (0.9092653061224489, 0.559461546575835),\n",
       " (0.9193571428571428, 0.5472092288792503),\n",
       " (0.9294489795918367, 0.5181835431533696),\n",
       " (0.9395408163265305, 0.49564021056955504),\n",
       " (0.9496326530612245, 0.47472576470462446),\n",
       " (0.9597244897959183, 0.45259559835135665),\n",
       " (0.9698163265306122, 0.4227673583676854),\n",
       " (0.979908163265306, 0.39081631529450744),\n",
       " (0.99, 0.33679207780483456)]"
      ]
     },
     "execution_count": 46,
     "metadata": {},
     "output_type": "execute_result"
    }
   ],
   "source": [
    "list(zip(cutoffs,KS_all))"
   ]
  },
  {
   "cell_type": "code",
   "execution_count": 47,
   "id": "42de5a01",
   "metadata": {},
   "outputs": [
    {
     "data": {
      "text/plain": [
       "array([0.4955])"
      ]
     },
     "execution_count": 47,
     "metadata": {},
     "output_type": "execute_result"
    }
   ],
   "source": [
    "mycutoff=cutoffs[KS_all==max(KS_all)]\n",
    "mycutoff"
   ]
  },
  {
   "cell_type": "code",
   "execution_count": 48,
   "id": "3939b115",
   "metadata": {},
   "outputs": [
    {
     "data": {
      "text/plain": [
       "array([[0.98748641, 0.01251359],\n",
       "       [0.9535428 , 0.0464572 ],\n",
       "       [0.96344557, 0.03655443],\n",
       "       ...,\n",
       "       [0.96315592, 0.03684408],\n",
       "       [0.69238443, 0.30761557],\n",
       "       [0.7856795 , 0.2143205 ]])"
      ]
     },
     "execution_count": 48,
     "metadata": {},
     "output_type": "execute_result"
    }
   ],
   "source": [
    "logr.predict_proba(x_test)"
   ]
  },
  {
   "cell_type": "code",
   "execution_count": 49,
   "id": "4ada5cee",
   "metadata": {},
   "outputs": [
    {
     "data": {
      "text/plain": [
       "array([0.01251359, 0.0464572 , 0.03655443, ..., 0.03684408, 0.30761557,\n",
       "       0.2143205 ])"
      ]
     },
     "execution_count": 49,
     "metadata": {},
     "output_type": "execute_result"
    }
   ],
   "source": [
    "test_score=logr.predict_proba(x_test)[:,1]\n",
    "test_score"
   ]
  },
  {
   "cell_type": "code",
   "execution_count": 50,
   "id": "d32373f1",
   "metadata": {},
   "outputs": [
    {
     "data": {
      "text/plain": [
       "array([0, 0, 0, ..., 0, 0, 0])"
      ]
     },
     "execution_count": 50,
     "metadata": {},
     "output_type": "execute_result"
    }
   ],
   "source": [
    "(test_score>mycutoff).astype(int)"
   ]
  },
  {
   "cell_type": "code",
   "execution_count": 51,
   "id": "6de98628",
   "metadata": {},
   "outputs": [],
   "source": [
    "pd.DataFrame(test_score).to_csv(\"mySubmission_logistic\",index=False)"
   ]
  },
  {
   "cell_type": "code",
   "execution_count": 52,
   "id": "7d17b499",
   "metadata": {},
   "outputs": [],
   "source": [
    "# hard classes\n",
    "test_classes=(test_score>mycutoff).astype(int)"
   ]
  },
  {
   "cell_type": "code",
   "execution_count": 53,
   "id": "7161765e",
   "metadata": {},
   "outputs": [
    {
     "data": {
      "text/plain": [
       "array([0, 0, 0, ..., 0, 0, 0])"
      ]
     },
     "execution_count": 53,
     "metadata": {},
     "output_type": "execute_result"
    }
   ],
   "source": [
    "test_classes"
   ]
  },
  {
   "cell_type": "code",
   "execution_count": null,
   "id": "fe448889",
   "metadata": {},
   "outputs": [],
   "source": []
  }
 ],
 "metadata": {
  "kernelspec": {
   "display_name": "Python 3 (ipykernel)",
   "language": "python",
   "name": "python3"
  },
  "language_info": {
   "codemirror_mode": {
    "name": "ipython",
    "version": 3
   },
   "file_extension": ".py",
   "mimetype": "text/x-python",
   "name": "python",
   "nbconvert_exporter": "python",
   "pygments_lexer": "ipython3",
   "version": "3.9.7"
  }
 },
 "nbformat": 4,
 "nbformat_minor": 5
}
