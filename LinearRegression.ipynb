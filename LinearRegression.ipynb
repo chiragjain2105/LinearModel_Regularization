{
 "cells": [
  {
   "cell_type": "code",
   "execution_count": 1,
   "id": "8335775f",
   "metadata": {},
   "outputs": [],
   "source": [
    "import warnings\n",
    "warnings.filterwarnings('ignore')\n",
    "\n",
    "import pandas as pd\n",
    "import numpy as np\n",
    "\n",
    "from sklearn.pipeline import Pipeline,FeatureUnion\n",
    "from sklearn.base import BaseEstimator,TransformerMixin\n",
    "\n",
    "from mypipes import *"
   ]
  },
  {
   "cell_type": "code",
   "execution_count": null,
   "id": "c63348ce",
   "metadata": {},
   "outputs": [],
   "source": [
    "train_file=r'C:\\Users\\chirag\\Desktop\\ML IITK\\ML Intro\\DATA\\loan_data_train.csv'\n",
    "test_file=r'C:\\Users\\chirag\\Desktop\\ML IITK\\ML Intro\\DATA\\loan_data_test.csv'\n",
    "\n",
    "ld_train=pd.read_csv(train_file)\n",
    "ld_test=pd.read_csv(test_file)"
   ]
  },
  {
   "cell_type": "code",
   "execution_count": 3,
   "id": "576cd832",
   "metadata": {},
   "outputs": [
    {
     "data": {
      "text/html": [
       "<div>\n",
       "<style scoped>\n",
       "    .dataframe tbody tr th:only-of-type {\n",
       "        vertical-align: middle;\n",
       "    }\n",
       "\n",
       "    .dataframe tbody tr th {\n",
       "        vertical-align: top;\n",
       "    }\n",
       "\n",
       "    .dataframe thead th {\n",
       "        text-align: right;\n",
       "    }\n",
       "</style>\n",
       "<table border=\"1\" class=\"dataframe\">\n",
       "  <thead>\n",
       "    <tr style=\"text-align: right;\">\n",
       "      <th></th>\n",
       "      <th>ID</th>\n",
       "      <th>Amount.Requested</th>\n",
       "      <th>Amount.Funded.By.Investors</th>\n",
       "      <th>Interest.Rate</th>\n",
       "      <th>Loan.Length</th>\n",
       "      <th>Loan.Purpose</th>\n",
       "      <th>Debt.To.Income.Ratio</th>\n",
       "      <th>State</th>\n",
       "      <th>Home.Ownership</th>\n",
       "      <th>Monthly.Income</th>\n",
       "      <th>FICO.Range</th>\n",
       "      <th>Open.CREDIT.Lines</th>\n",
       "      <th>Revolving.CREDIT.Balance</th>\n",
       "      <th>Inquiries.in.the.Last.6.Months</th>\n",
       "      <th>Employment.Length</th>\n",
       "    </tr>\n",
       "  </thead>\n",
       "  <tbody>\n",
       "    <tr>\n",
       "      <th>0</th>\n",
       "      <td>79542.0</td>\n",
       "      <td>25000</td>\n",
       "      <td>25000</td>\n",
       "      <td>18.49%</td>\n",
       "      <td>60 months</td>\n",
       "      <td>debt_consolidation</td>\n",
       "      <td>27.56%</td>\n",
       "      <td>VA</td>\n",
       "      <td>MORTGAGE</td>\n",
       "      <td>8606.56</td>\n",
       "      <td>720-724</td>\n",
       "      <td>11</td>\n",
       "      <td>15210</td>\n",
       "      <td>3.0</td>\n",
       "      <td>5 years</td>\n",
       "    </tr>\n",
       "    <tr>\n",
       "      <th>1</th>\n",
       "      <td>75473.0</td>\n",
       "      <td>19750</td>\n",
       "      <td>19750</td>\n",
       "      <td>17.27%</td>\n",
       "      <td>60 months</td>\n",
       "      <td>debt_consolidation</td>\n",
       "      <td>13.39%</td>\n",
       "      <td>NY</td>\n",
       "      <td>MORTGAGE</td>\n",
       "      <td>6737.50</td>\n",
       "      <td>710-714</td>\n",
       "      <td>14</td>\n",
       "      <td>19070</td>\n",
       "      <td>3.0</td>\n",
       "      <td>4 years</td>\n",
       "    </tr>\n",
       "    <tr>\n",
       "      <th>2</th>\n",
       "      <td>67265.0</td>\n",
       "      <td>2100</td>\n",
       "      <td>2100</td>\n",
       "      <td>14.33%</td>\n",
       "      <td>36 months</td>\n",
       "      <td>major_purchase</td>\n",
       "      <td>3.50%</td>\n",
       "      <td>LA</td>\n",
       "      <td>OWN</td>\n",
       "      <td>1000.00</td>\n",
       "      <td>690-694</td>\n",
       "      <td>13</td>\n",
       "      <td>893</td>\n",
       "      <td>1.0</td>\n",
       "      <td>&lt; 1 year</td>\n",
       "    </tr>\n",
       "    <tr>\n",
       "      <th>3</th>\n",
       "      <td>80167.0</td>\n",
       "      <td>28000</td>\n",
       "      <td>28000</td>\n",
       "      <td>16.29%</td>\n",
       "      <td>36 months</td>\n",
       "      <td>credit_card</td>\n",
       "      <td>19.62%</td>\n",
       "      <td>NV</td>\n",
       "      <td>MORTGAGE</td>\n",
       "      <td>7083.33</td>\n",
       "      <td>710-714</td>\n",
       "      <td>12</td>\n",
       "      <td>38194</td>\n",
       "      <td>1.0</td>\n",
       "      <td>10+ years</td>\n",
       "    </tr>\n",
       "    <tr>\n",
       "      <th>4</th>\n",
       "      <td>17240.0</td>\n",
       "      <td>24250</td>\n",
       "      <td>17431.82</td>\n",
       "      <td>12.23%</td>\n",
       "      <td>60 months</td>\n",
       "      <td>credit_card</td>\n",
       "      <td>23.79%</td>\n",
       "      <td>OH</td>\n",
       "      <td>MORTGAGE</td>\n",
       "      <td>5833.33</td>\n",
       "      <td>730-734</td>\n",
       "      <td>6</td>\n",
       "      <td>31061</td>\n",
       "      <td>2.0</td>\n",
       "      <td>10+ years</td>\n",
       "    </tr>\n",
       "  </tbody>\n",
       "</table>\n",
       "</div>"
      ],
      "text/plain": [
       "        ID Amount.Requested Amount.Funded.By.Investors Interest.Rate  \\\n",
       "0  79542.0            25000                      25000        18.49%   \n",
       "1  75473.0            19750                      19750        17.27%   \n",
       "2  67265.0             2100                       2100        14.33%   \n",
       "3  80167.0            28000                      28000        16.29%   \n",
       "4  17240.0            24250                   17431.82        12.23%   \n",
       "\n",
       "  Loan.Length        Loan.Purpose Debt.To.Income.Ratio State Home.Ownership  \\\n",
       "0   60 months  debt_consolidation               27.56%    VA       MORTGAGE   \n",
       "1   60 months  debt_consolidation               13.39%    NY       MORTGAGE   \n",
       "2   36 months      major_purchase                3.50%    LA            OWN   \n",
       "3   36 months         credit_card               19.62%    NV       MORTGAGE   \n",
       "4   60 months         credit_card               23.79%    OH       MORTGAGE   \n",
       "\n",
       "   Monthly.Income FICO.Range Open.CREDIT.Lines Revolving.CREDIT.Balance  \\\n",
       "0         8606.56    720-724                11                    15210   \n",
       "1         6737.50    710-714                14                    19070   \n",
       "2         1000.00    690-694                13                      893   \n",
       "3         7083.33    710-714                12                    38194   \n",
       "4         5833.33    730-734                 6                    31061   \n",
       "\n",
       "   Inquiries.in.the.Last.6.Months Employment.Length  \n",
       "0                             3.0           5 years  \n",
       "1                             3.0           4 years  \n",
       "2                             1.0          < 1 year  \n",
       "3                             1.0         10+ years  \n",
       "4                             2.0         10+ years  "
      ]
     },
     "execution_count": 3,
     "metadata": {},
     "output_type": "execute_result"
    }
   ],
   "source": [
    "ld_train.head()"
   ]
  },
  {
   "cell_type": "code",
   "execution_count": 4,
   "id": "7730ab26",
   "metadata": {},
   "outputs": [
    {
     "data": {
      "text/html": [
       "<div>\n",
       "<style scoped>\n",
       "    .dataframe tbody tr th:only-of-type {\n",
       "        vertical-align: middle;\n",
       "    }\n",
       "\n",
       "    .dataframe tbody tr th {\n",
       "        vertical-align: top;\n",
       "    }\n",
       "\n",
       "    .dataframe thead th {\n",
       "        text-align: right;\n",
       "    }\n",
       "</style>\n",
       "<table border=\"1\" class=\"dataframe\">\n",
       "  <thead>\n",
       "    <tr style=\"text-align: right;\">\n",
       "      <th></th>\n",
       "      <th>ID</th>\n",
       "      <th>Amount.Requested</th>\n",
       "      <th>Amount.Funded.By.Investors</th>\n",
       "      <th>Loan.Length</th>\n",
       "      <th>Loan.Purpose</th>\n",
       "      <th>Debt.To.Income.Ratio</th>\n",
       "      <th>State</th>\n",
       "      <th>Home.Ownership</th>\n",
       "      <th>Monthly.Income</th>\n",
       "      <th>FICO.Range</th>\n",
       "      <th>Open.CREDIT.Lines</th>\n",
       "      <th>Revolving.CREDIT.Balance</th>\n",
       "      <th>Inquiries.in.the.Last.6.Months</th>\n",
       "      <th>Employment.Length</th>\n",
       "    </tr>\n",
       "  </thead>\n",
       "  <tbody>\n",
       "    <tr>\n",
       "      <th>0</th>\n",
       "      <td>20093</td>\n",
       "      <td>5000</td>\n",
       "      <td>5000</td>\n",
       "      <td>60 months</td>\n",
       "      <td>moving</td>\n",
       "      <td>12.59%</td>\n",
       "      <td>NY</td>\n",
       "      <td>RENT</td>\n",
       "      <td>4416.67</td>\n",
       "      <td>690-694</td>\n",
       "      <td>13</td>\n",
       "      <td>7686</td>\n",
       "      <td>0</td>\n",
       "      <td>&lt; 1 year</td>\n",
       "    </tr>\n",
       "    <tr>\n",
       "      <th>1</th>\n",
       "      <td>62445</td>\n",
       "      <td>18000</td>\n",
       "      <td>18000</td>\n",
       "      <td>60 months</td>\n",
       "      <td>debt_consolidation</td>\n",
       "      <td>4.93%</td>\n",
       "      <td>CA</td>\n",
       "      <td>RENT</td>\n",
       "      <td>5258.50</td>\n",
       "      <td>710-714</td>\n",
       "      <td>6</td>\n",
       "      <td>11596</td>\n",
       "      <td>0</td>\n",
       "      <td>10+ years</td>\n",
       "    </tr>\n",
       "    <tr>\n",
       "      <th>2</th>\n",
       "      <td>65248</td>\n",
       "      <td>7200</td>\n",
       "      <td>7200</td>\n",
       "      <td>60 months</td>\n",
       "      <td>debt_consolidation</td>\n",
       "      <td>25.16%</td>\n",
       "      <td>LA</td>\n",
       "      <td>MORTGAGE</td>\n",
       "      <td>3750.00</td>\n",
       "      <td>750-754</td>\n",
       "      <td>13</td>\n",
       "      <td>7283</td>\n",
       "      <td>0</td>\n",
       "      <td>6 years</td>\n",
       "    </tr>\n",
       "    <tr>\n",
       "      <th>3</th>\n",
       "      <td>81822</td>\n",
       "      <td>7200</td>\n",
       "      <td>7200</td>\n",
       "      <td>36 months</td>\n",
       "      <td>debt_consolidation</td>\n",
       "      <td>17.27%</td>\n",
       "      <td>NY</td>\n",
       "      <td>MORTGAGE</td>\n",
       "      <td>3416.67</td>\n",
       "      <td>790-794</td>\n",
       "      <td>14</td>\n",
       "      <td>4838</td>\n",
       "      <td>0</td>\n",
       "      <td>10+ years</td>\n",
       "    </tr>\n",
       "    <tr>\n",
       "      <th>4</th>\n",
       "      <td>57923</td>\n",
       "      <td>22000</td>\n",
       "      <td>22000</td>\n",
       "      <td>60 months</td>\n",
       "      <td>debt_consolidation</td>\n",
       "      <td>18.28%</td>\n",
       "      <td>MI</td>\n",
       "      <td>MORTGAGE</td>\n",
       "      <td>6083.33</td>\n",
       "      <td>720-724</td>\n",
       "      <td>9</td>\n",
       "      <td>20181</td>\n",
       "      <td>0</td>\n",
       "      <td>8 years</td>\n",
       "    </tr>\n",
       "  </tbody>\n",
       "</table>\n",
       "</div>"
      ],
      "text/plain": [
       "      ID  Amount.Requested Amount.Funded.By.Investors Loan.Length  \\\n",
       "0  20093              5000                       5000   60 months   \n",
       "1  62445             18000                      18000   60 months   \n",
       "2  65248              7200                       7200   60 months   \n",
       "3  81822              7200                       7200   36 months   \n",
       "4  57923             22000                      22000   60 months   \n",
       "\n",
       "         Loan.Purpose Debt.To.Income.Ratio State Home.Ownership  \\\n",
       "0              moving               12.59%    NY           RENT   \n",
       "1  debt_consolidation                4.93%    CA           RENT   \n",
       "2  debt_consolidation               25.16%    LA       MORTGAGE   \n",
       "3  debt_consolidation               17.27%    NY       MORTGAGE   \n",
       "4  debt_consolidation               18.28%    MI       MORTGAGE   \n",
       "\n",
       "   Monthly.Income FICO.Range Open.CREDIT.Lines  Revolving.CREDIT.Balance  \\\n",
       "0         4416.67    690-694                13                      7686   \n",
       "1         5258.50    710-714                 6                     11596   \n",
       "2         3750.00    750-754                13                      7283   \n",
       "3         3416.67    790-794                14                      4838   \n",
       "4         6083.33    720-724                 9                     20181   \n",
       "\n",
       "   Inquiries.in.the.Last.6.Months Employment.Length  \n",
       "0                               0          < 1 year  \n",
       "1                               0         10+ years  \n",
       "2                               0           6 years  \n",
       "3                               0         10+ years  \n",
       "4                               0           8 years  "
      ]
     },
     "execution_count": 4,
     "metadata": {},
     "output_type": "execute_result"
    }
   ],
   "source": [
    "ld_test.head()"
   ]
  },
  {
   "cell_type": "code",
   "execution_count": 5,
   "id": "c0a729ec",
   "metadata": {},
   "outputs": [
    {
     "data": {
      "text/html": [
       "<div>\n",
       "<style scoped>\n",
       "    .dataframe tbody tr th:only-of-type {\n",
       "        vertical-align: middle;\n",
       "    }\n",
       "\n",
       "    .dataframe tbody tr th {\n",
       "        vertical-align: top;\n",
       "    }\n",
       "\n",
       "    .dataframe thead th {\n",
       "        text-align: right;\n",
       "    }\n",
       "</style>\n",
       "<table border=\"1\" class=\"dataframe\">\n",
       "  <thead>\n",
       "    <tr style=\"text-align: right;\">\n",
       "      <th></th>\n",
       "      <th>ID</th>\n",
       "      <th>Amount.Requested</th>\n",
       "      <th>Amount.Funded.By.Investors</th>\n",
       "      <th>Interest.Rate</th>\n",
       "      <th>Loan.Length</th>\n",
       "      <th>Loan.Purpose</th>\n",
       "      <th>Debt.To.Income.Ratio</th>\n",
       "      <th>State</th>\n",
       "      <th>Home.Ownership</th>\n",
       "      <th>Monthly.Income</th>\n",
       "      <th>FICO.Range</th>\n",
       "      <th>Open.CREDIT.Lines</th>\n",
       "      <th>Revolving.CREDIT.Balance</th>\n",
       "      <th>Inquiries.in.the.Last.6.Months</th>\n",
       "      <th>Employment.Length</th>\n",
       "    </tr>\n",
       "  </thead>\n",
       "  <tbody>\n",
       "    <tr>\n",
       "      <th>532</th>\n",
       "      <td>103512.0</td>\n",
       "      <td>8000</td>\n",
       "      <td>7725</td>\n",
       "      <td>10.99%</td>\n",
       "      <td>36 months</td>\n",
       "      <td>credit_card</td>\n",
       "      <td>13.40%</td>\n",
       "      <td>FL</td>\n",
       "      <td>MORTGAGE</td>\n",
       "      <td>7000.00</td>\n",
       "      <td>735-739</td>\n",
       "      <td>3</td>\n",
       "      <td>175087</td>\n",
       "      <td>1.0</td>\n",
       "      <td>10+ years</td>\n",
       "    </tr>\n",
       "    <tr>\n",
       "      <th>284</th>\n",
       "      <td>77887.0</td>\n",
       "      <td>7000</td>\n",
       "      <td>7000</td>\n",
       "      <td>8.90%</td>\n",
       "      <td>36 months</td>\n",
       "      <td>home_improvement</td>\n",
       "      <td>14.69%</td>\n",
       "      <td>KY</td>\n",
       "      <td>MORTGAGE</td>\n",
       "      <td>5416.67</td>\n",
       "      <td>720-724</td>\n",
       "      <td>14</td>\n",
       "      <td>15272</td>\n",
       "      <td>1.0</td>\n",
       "      <td>3 years</td>\n",
       "    </tr>\n",
       "    <tr>\n",
       "      <th>1379</th>\n",
       "      <td>82729.0</td>\n",
       "      <td>12000</td>\n",
       "      <td>12000</td>\n",
       "      <td>10.16%</td>\n",
       "      <td>36 months</td>\n",
       "      <td>debt_consolidation</td>\n",
       "      <td>11.93%</td>\n",
       "      <td>CA</td>\n",
       "      <td>RENT</td>\n",
       "      <td>8054.50</td>\n",
       "      <td>710-714</td>\n",
       "      <td>13</td>\n",
       "      <td>14986</td>\n",
       "      <td>0.0</td>\n",
       "      <td>10+ years</td>\n",
       "    </tr>\n",
       "    <tr>\n",
       "      <th>1235</th>\n",
       "      <td>28305.0</td>\n",
       "      <td>5000</td>\n",
       "      <td>5000</td>\n",
       "      <td>17.49%</td>\n",
       "      <td>60 months</td>\n",
       "      <td>car</td>\n",
       "      <td>16.71%</td>\n",
       "      <td>PA</td>\n",
       "      <td>RENT</td>\n",
       "      <td>2400.00</td>\n",
       "      <td>670-674</td>\n",
       "      <td>6</td>\n",
       "      <td>2023</td>\n",
       "      <td>1.0</td>\n",
       "      <td>3 years</td>\n",
       "    </tr>\n",
       "    <tr>\n",
       "      <th>1761</th>\n",
       "      <td>49956.0</td>\n",
       "      <td>32000</td>\n",
       "      <td>32000</td>\n",
       "      <td>16.29%</td>\n",
       "      <td>60 months</td>\n",
       "      <td>debt_consolidation</td>\n",
       "      <td>15.14%</td>\n",
       "      <td>AZ</td>\n",
       "      <td>RENT</td>\n",
       "      <td>7055.00</td>\n",
       "      <td>725-729</td>\n",
       "      <td>8</td>\n",
       "      <td>16174</td>\n",
       "      <td>1.0</td>\n",
       "      <td>6 years</td>\n",
       "    </tr>\n",
       "    <tr>\n",
       "      <th>190</th>\n",
       "      <td>91334.0</td>\n",
       "      <td>35000</td>\n",
       "      <td>35000</td>\n",
       "      <td>15.31%</td>\n",
       "      <td>36 months</td>\n",
       "      <td>debt_consolidation</td>\n",
       "      <td>19.59%</td>\n",
       "      <td>PA</td>\n",
       "      <td>MORTGAGE</td>\n",
       "      <td>7500.00</td>\n",
       "      <td>695-699</td>\n",
       "      <td>11</td>\n",
       "      <td>29953</td>\n",
       "      <td>2.0</td>\n",
       "      <td>1 year</td>\n",
       "    </tr>\n",
       "    <tr>\n",
       "      <th>816</th>\n",
       "      <td>48356.0</td>\n",
       "      <td>9000</td>\n",
       "      <td>9000</td>\n",
       "      <td>6.03%</td>\n",
       "      <td>36 months</td>\n",
       "      <td>major_purchase</td>\n",
       "      <td>9.29%</td>\n",
       "      <td>NY</td>\n",
       "      <td>MORTGAGE</td>\n",
       "      <td>14166.67</td>\n",
       "      <td>770-774</td>\n",
       "      <td>13</td>\n",
       "      <td>40909</td>\n",
       "      <td>0.0</td>\n",
       "      <td>4 years</td>\n",
       "    </tr>\n",
       "    <tr>\n",
       "      <th>1442</th>\n",
       "      <td>60832.0</td>\n",
       "      <td>7200</td>\n",
       "      <td>7200</td>\n",
       "      <td>7.90%</td>\n",
       "      <td>36 months</td>\n",
       "      <td>debt_consolidation</td>\n",
       "      <td>21.74%</td>\n",
       "      <td>TX</td>\n",
       "      <td>RENT</td>\n",
       "      <td>4300.00</td>\n",
       "      <td>710-714</td>\n",
       "      <td>7</td>\n",
       "      <td>33189</td>\n",
       "      <td>0.0</td>\n",
       "      <td>10+ years</td>\n",
       "    </tr>\n",
       "    <tr>\n",
       "      <th>1676</th>\n",
       "      <td>32181.0</td>\n",
       "      <td>NaN</td>\n",
       "      <td>10000</td>\n",
       "      <td>11.71%</td>\n",
       "      <td>36 months</td>\n",
       "      <td>moving</td>\n",
       "      <td>2.18%</td>\n",
       "      <td>CA</td>\n",
       "      <td>RENT</td>\n",
       "      <td>5500.00</td>\n",
       "      <td>720-724</td>\n",
       "      <td>3</td>\n",
       "      <td>5623</td>\n",
       "      <td>0.0</td>\n",
       "      <td>4 years</td>\n",
       "    </tr>\n",
       "    <tr>\n",
       "      <th>536</th>\n",
       "      <td>45225.0</td>\n",
       "      <td>19200</td>\n",
       "      <td>19200</td>\n",
       "      <td>13.11%</td>\n",
       "      <td>60 months</td>\n",
       "      <td>other</td>\n",
       "      <td>3.45%</td>\n",
       "      <td>IL</td>\n",
       "      <td>MORTGAGE</td>\n",
       "      <td>8333.33</td>\n",
       "      <td>745-749</td>\n",
       "      <td>14</td>\n",
       "      <td>50625</td>\n",
       "      <td>3.0</td>\n",
       "      <td>2 years</td>\n",
       "    </tr>\n",
       "  </tbody>\n",
       "</table>\n",
       "</div>"
      ],
      "text/plain": [
       "            ID Amount.Requested Amount.Funded.By.Investors Interest.Rate  \\\n",
       "532   103512.0             8000                       7725        10.99%   \n",
       "284    77887.0             7000                       7000         8.90%   \n",
       "1379   82729.0            12000                      12000        10.16%   \n",
       "1235   28305.0             5000                       5000        17.49%   \n",
       "1761   49956.0            32000                      32000        16.29%   \n",
       "190    91334.0            35000                      35000        15.31%   \n",
       "816    48356.0             9000                       9000         6.03%   \n",
       "1442   60832.0             7200                       7200         7.90%   \n",
       "1676   32181.0              NaN                      10000        11.71%   \n",
       "536    45225.0            19200                      19200        13.11%   \n",
       "\n",
       "     Loan.Length        Loan.Purpose Debt.To.Income.Ratio State  \\\n",
       "532    36 months         credit_card               13.40%    FL   \n",
       "284    36 months    home_improvement               14.69%    KY   \n",
       "1379   36 months  debt_consolidation               11.93%    CA   \n",
       "1235   60 months                 car               16.71%    PA   \n",
       "1761   60 months  debt_consolidation               15.14%    AZ   \n",
       "190    36 months  debt_consolidation               19.59%    PA   \n",
       "816    36 months      major_purchase                9.29%    NY   \n",
       "1442   36 months  debt_consolidation               21.74%    TX   \n",
       "1676   36 months              moving                2.18%    CA   \n",
       "536    60 months               other                3.45%    IL   \n",
       "\n",
       "     Home.Ownership  Monthly.Income FICO.Range Open.CREDIT.Lines  \\\n",
       "532        MORTGAGE         7000.00    735-739                 3   \n",
       "284        MORTGAGE         5416.67    720-724                14   \n",
       "1379           RENT         8054.50    710-714                13   \n",
       "1235           RENT         2400.00    670-674                 6   \n",
       "1761           RENT         7055.00    725-729                 8   \n",
       "190        MORTGAGE         7500.00    695-699                11   \n",
       "816        MORTGAGE        14166.67    770-774                13   \n",
       "1442           RENT         4300.00    710-714                 7   \n",
       "1676           RENT         5500.00    720-724                 3   \n",
       "536        MORTGAGE         8333.33    745-749                14   \n",
       "\n",
       "     Revolving.CREDIT.Balance  Inquiries.in.the.Last.6.Months  \\\n",
       "532                    175087                             1.0   \n",
       "284                     15272                             1.0   \n",
       "1379                    14986                             0.0   \n",
       "1235                     2023                             1.0   \n",
       "1761                    16174                             1.0   \n",
       "190                     29953                             2.0   \n",
       "816                     40909                             0.0   \n",
       "1442                    33189                             0.0   \n",
       "1676                     5623                             0.0   \n",
       "536                     50625                             3.0   \n",
       "\n",
       "     Employment.Length  \n",
       "532          10+ years  \n",
       "284            3 years  \n",
       "1379         10+ years  \n",
       "1235           3 years  \n",
       "1761           6 years  \n",
       "190             1 year  \n",
       "816            4 years  \n",
       "1442         10+ years  \n",
       "1676           4 years  \n",
       "536            2 years  "
      ]
     },
     "execution_count": 5,
     "metadata": {},
     "output_type": "execute_result"
    }
   ],
   "source": [
    "ld_train.sample(10)"
   ]
  },
  {
   "cell_type": "code",
   "execution_count": 6,
   "id": "72656000",
   "metadata": {},
   "outputs": [],
   "source": [
    "# don't need : Id,Amount.Funded.By.Investors,Interest.Rate(target var)\n",
    "# v1, Amount requested : convert it to numeric, treat missing values impute them with median\n",
    "# v3, Open.CREDIT.Lines : convert it to numeric, treat missing values impute them with median\n",
    "# v4, Revolving.CREDIT.Balance : convert it to numeric, treat missing values impute them with median\n",
    "\n",
    "# v5, Debt.To.Income.Ratio : remove percentage sign, convert to numeric and impute with median\n",
    "\n",
    "# v6-v10, Loan.Length,Loan.Purpose,State,Home.Ownership,Employment.Length : create dummies for these considering frequency cutoff as 20\n",
    "# ignoring categories having less frequency in data\n",
    "\n",
    "# v11-v12, Monthly.Income, Inquiries.in.the.Last.6.Months : impute missing values with median\n",
    "\n",
    "# v13, FICO.Range : split the column at '-', convert the resulting columns to numeric(say a,b)\n",
    "# then create a new column (a+b)/2"
   ]
  },
  {
   "cell_type": "code",
   "execution_count": 7,
   "id": "ab4ded48",
   "metadata": {},
   "outputs": [],
   "source": [
    "p1=pdPipeline([\n",
    "    ('var_select',VarSelector(['Amount.Requested','Open.CREDIT.Lines','Revolving.CREDIT.Balance'])),\n",
    "    ('convert_to_numeric',convert_to_numeric()),\n",
    "    ('missing_trt',DataFrameImputer())\n",
    "])\n",
    "\n",
    "p2=pdPipeline([\n",
    "    ('var_select',VarSelector(['Debt.To.Income.Ratio'])),\n",
    "    ('string_clean',string_clean(replace_it='%',replace_with='')),\n",
    "    ('convert_to_numeric',convert_to_numeric()),\n",
    "    ('missing_trt',DataFrameImputer())\n",
    "])\n",
    "\n",
    "p3=pdPipeline([\n",
    "    ('var_select',VarSelector(['Loan.Length','Loan.Purpose','State','Home.Ownership','Employment.Length'])),\n",
    "    ('missing_trt',DataFrameImputer()),\n",
    "    ('create_dummies',get_dummies_Pipe(20))\n",
    "])\n",
    "\n",
    "p4=pdPipeline([\n",
    "    ('var_select',VarSelector(['Monthly.Income','Inquiries.in.the.Last.6.Months'])),\n",
    "    ('missing_trt',DataFrameImputer()),\n",
    "])\n",
    "\n",
    "p5=pdPipeline([\n",
    "    ('var_select',VarSelector(['FICO.Range'])),\n",
    "    ('custom_fico',custom_fico())\n",
    "])\n",
    "\n",
    "data_pipe=FeatureUnion([\n",
    "    ('obj_to_num',p1),\n",
    "    ('dtlr',p2),\n",
    "    ('obj_to_dum',p3),\n",
    "    ('num',p4),\n",
    "    ('fico',p5)\n",
    "])"
   ]
  },
  {
   "cell_type": "code",
   "execution_count": 8,
   "id": "d6cee34a",
   "metadata": {},
   "outputs": [],
   "source": [
    "x_train=pd.DataFrame(data=data_pipe.fit_transform(ld_train),\n",
    "                    columns=data_pipe.get_feature_names())"
   ]
  },
  {
   "cell_type": "code",
   "execution_count": 9,
   "id": "b46f1131",
   "metadata": {},
   "outputs": [
    {
     "data": {
      "text/plain": [
       "(2200, 60)"
      ]
     },
     "execution_count": 9,
     "metadata": {},
     "output_type": "execute_result"
    }
   ],
   "source": [
    "x_train.shape"
   ]
  },
  {
   "cell_type": "code",
   "execution_count": 10,
   "id": "8351e3cf",
   "metadata": {},
   "outputs": [],
   "source": [
    "x_test=pd.DataFrame(data=data_pipe.transform(ld_test),\n",
    "                   columns=data_pipe.get_feature_names())"
   ]
  },
  {
   "cell_type": "code",
   "execution_count": 11,
   "id": "7b9bc93b",
   "metadata": {},
   "outputs": [
    {
     "data": {
      "text/plain": [
       "(300, 60)"
      ]
     },
     "execution_count": 11,
     "metadata": {},
     "output_type": "execute_result"
    }
   ],
   "source": [
    "x_test.shape"
   ]
  },
  {
   "cell_type": "code",
   "execution_count": 12,
   "id": "e4099540",
   "metadata": {},
   "outputs": [],
   "source": [
    "y_train=ld_train['Interest.Rate'].str.replace('%','').astype(float)"
   ]
  },
  {
   "cell_type": "code",
   "execution_count": 13,
   "id": "7b855487",
   "metadata": {},
   "outputs": [],
   "source": [
    "from sklearn.linear_model import LinearRegression\n",
    "from sklearn.model_selection import cross_val_score"
   ]
  },
  {
   "cell_type": "code",
   "execution_count": 14,
   "id": "bd4be463",
   "metadata": {},
   "outputs": [],
   "source": [
    "ln=LinearRegression()"
   ]
  },
  {
   "cell_type": "code",
   "execution_count": 15,
   "id": "e56fd3d3",
   "metadata": {},
   "outputs": [],
   "source": [
    "cv_mae=-cross_val_score(ln,\n",
    "                      x_train,y_train,\n",
    "                      cv=10,\n",
    "                      scoring='neg_mean_absolute_error')"
   ]
  },
  {
   "cell_type": "code",
   "execution_count": 16,
   "id": "a3c5cf5a",
   "metadata": {},
   "outputs": [
    {
     "data": {
      "text/plain": [
       "array([1.74273801, 1.76502624, 1.77011354, 1.65406589, 1.43720296,\n",
       "       1.63540955, 1.44255408, 1.58043799, 1.52220714, 1.65823135])"
      ]
     },
     "execution_count": 16,
     "metadata": {},
     "output_type": "execute_result"
    }
   ],
   "source": [
    "cv_mae"
   ]
  },
  {
   "cell_type": "code",
   "execution_count": 17,
   "id": "6cba84ef",
   "metadata": {},
   "outputs": [
    {
     "data": {
      "text/plain": [
       "1.6207986760159065"
      ]
     },
     "execution_count": 17,
     "metadata": {},
     "output_type": "execute_result"
    }
   ],
   "source": [
    "cv_mae.mean()"
   ]
  },
  {
   "cell_type": "code",
   "execution_count": 18,
   "id": "8bb5561f",
   "metadata": {},
   "outputs": [
    {
     "data": {
      "text/plain": [
       "0.11726675023087343"
      ]
     },
     "execution_count": 18,
     "metadata": {},
     "output_type": "execute_result"
    }
   ],
   "source": [
    "cv_mae.std()"
   ]
  },
  {
   "cell_type": "code",
   "execution_count": 19,
   "id": "bf568dff",
   "metadata": {},
   "outputs": [
    {
     "data": {
      "text/plain": [
       "LinearRegression()"
      ]
     },
     "execution_count": 19,
     "metadata": {},
     "output_type": "execute_result"
    }
   ],
   "source": [
    " ln.fit(x_train,y_train)"
   ]
  },
  {
   "cell_type": "code",
   "execution_count": 20,
   "id": "19f0b4b5",
   "metadata": {},
   "outputs": [
    {
     "data": {
      "text/plain": [
       "73.16432302812574"
      ]
     },
     "execution_count": 20,
     "metadata": {},
     "output_type": "execute_result"
    }
   ],
   "source": [
    "ln.intercept_"
   ]
  },
  {
   "cell_type": "code",
   "execution_count": 21,
   "id": "5003ff9e",
   "metadata": {},
   "outputs": [
    {
     "data": {
      "text/plain": [
       "array([ 1.60913878e-04, -3.72164153e-02, -3.05844966e-06,  1.88427404e-04,\n",
       "        1.30627284e+00,  4.47755390e+00, -7.84079703e-01, -8.91888331e-01,\n",
       "        3.20936459e-02, -6.95275775e-01, -4.22744797e-01, -2.64224120e-01,\n",
       "       -5.41274155e-01, -9.69555836e-01, -5.98574359e-01,  7.21470875e-01,\n",
       "       -1.99766458e-01, -1.88645568e-01, -7.45527597e-02,  4.73923022e-01,\n",
       "       -4.68212871e-01, -5.71694597e-01, -1.79076702e-01, -3.78950003e-01,\n",
       "       -1.57191036e-01, -1.08257898e-01, -4.96139885e-01, -1.99177682e-01,\n",
       "       -7.78964606e-02,  4.10456351e-02, -2.67193758e-01,  4.08575782e-01,\n",
       "        3.80179542e-01, -9.81649463e-02, -6.21920499e-02, -1.77735228e-01,\n",
       "       -3.50604056e-01, -2.33745724e-01, -3.92591988e-02,  1.10048502e-02,\n",
       "        1.87183988e-02,  1.85782841e-01, -2.39881640e+00, -2.17035525e+00,\n",
       "       -2.06526514e+00,  5.26184321e-01,  3.52218686e-01,  2.87554381e-01,\n",
       "        1.51007910e-01,  5.83377246e-01,  4.22222352e-01,  2.41210867e-01,\n",
       "        3.88741640e-01,  3.79084850e-01,  2.59382486e-01,  6.22503367e-01,\n",
       "        3.01804825e-02, -2.61235843e-05,  3.36843044e-01, -8.64225362e-02])"
      ]
     },
     "execution_count": 21,
     "metadata": {},
     "output_type": "execute_result"
    }
   ],
   "source": [
    "ln.coef_"
   ]
  },
  {
   "cell_type": "code",
   "execution_count": 22,
   "id": "3ba161b0",
   "metadata": {},
   "outputs": [
    {
     "data": {
      "text/plain": [
       "[('obj_to_num__Amount.Requested', 0.00016091387809670106),\n",
       " ('obj_to_num__Open.CREDIT.Lines', -0.03721641529315641),\n",
       " ('obj_to_num__Revolving.CREDIT.Balance', -3.0584496637280838e-06),\n",
       " ('dtlr__Debt.To.Income.Ratio', 0.00018842740388802515),\n",
       " ('obj_to_dum__Loan.Length_36 months', 1.3062728365133454),\n",
       " ('obj_to_dum__Loan.Length_60 months', 4.477553903304561),\n",
       " ('obj_to_dum__Loan.Purpose_debt_consolidation', -0.784079702742753),\n",
       " ('obj_to_dum__Loan.Purpose_credit_card', -0.8918883314528003),\n",
       " ('obj_to_dum__Loan.Purpose_other', 0.03209364593729813),\n",
       " ('obj_to_dum__Loan.Purpose_home_improvement', -0.6952757746474028),\n",
       " ('obj_to_dum__Loan.Purpose_major_purchase', -0.4227447967589232),\n",
       " ('obj_to_dum__Loan.Purpose_small_business', -0.26422412044799154),\n",
       " ('obj_to_dum__Loan.Purpose_car', -0.5412741545888299),\n",
       " ('obj_to_dum__Loan.Purpose_wedding', -0.9695558362069785),\n",
       " ('obj_to_dum__Loan.Purpose_medical', -0.5985743591789384),\n",
       " ('obj_to_dum__Loan.Purpose_moving', 0.7214708748508427),\n",
       " ('obj_to_dum__State_CA', -0.19976645848670557),\n",
       " ('obj_to_dum__State_NY', -0.18864556766686355),\n",
       " ('obj_to_dum__State_FL', -0.07455275965403585),\n",
       " ('obj_to_dum__State_TX', 0.47392302156482696),\n",
       " ('obj_to_dum__State_PA', -0.4682128709518426),\n",
       " ('obj_to_dum__State_IL', -0.5716945967437439),\n",
       " ('obj_to_dum__State_GA', -0.1790767015002364),\n",
       " ('obj_to_dum__State_NJ', -0.37895000264459433),\n",
       " ('obj_to_dum__State_VA', -0.15719103564790415),\n",
       " ('obj_to_dum__State_MA', -0.10825789759242299),\n",
       " ('obj_to_dum__State_NC', -0.4961398851960289),\n",
       " ('obj_to_dum__State_OH', -0.19917768151291917),\n",
       " ('obj_to_dum__State_MD', -0.07789646059887292),\n",
       " ('obj_to_dum__State_CO', 0.04104563510882608),\n",
       " ('obj_to_dum__State_WA', -0.2671937578952556),\n",
       " ('obj_to_dum__State_CT', 0.408575782132956),\n",
       " ('obj_to_dum__State_AZ', 0.38017954237157414),\n",
       " ('obj_to_dum__State_MI', -0.09816494633691236),\n",
       " ('obj_to_dum__State_AL', -0.062192049901534346),\n",
       " ('obj_to_dum__State_MN', -0.17773522839069184),\n",
       " ('obj_to_dum__State_MO', -0.35060405637788783),\n",
       " ('obj_to_dum__State_NV', -0.23374572350910722),\n",
       " ('obj_to_dum__State_SC', -0.03925919877884598),\n",
       " ('obj_to_dum__State_WI', 0.011004850204037138),\n",
       " ('obj_to_dum__State_OR', 0.01871839877696309),\n",
       " ('obj_to_dum__State_KS', 0.1857828414225427),\n",
       " ('obj_to_dum__Home.Ownership_MORTGAGE', -2.3988163957278497),\n",
       " ('obj_to_dum__Home.Ownership_RENT', -2.1703552527802694),\n",
       " ('obj_to_dum__Home.Ownership_OWN', -2.0652651351923597),\n",
       " ('obj_to_dum__Employment.Length_10+ years', 0.5261843209614431),\n",
       " ('obj_to_dum__Employment.Length_< 1 year', 0.35221868569083253),\n",
       " ('obj_to_dum__Employment.Length_2 years', 0.28755438123478494),\n",
       " ('obj_to_dum__Employment.Length_3 years', 0.15100791021349408),\n",
       " ('obj_to_dum__Employment.Length_5 years', 0.583377245929323),\n",
       " ('obj_to_dum__Employment.Length_4 years', 0.42222235189859425),\n",
       " ('obj_to_dum__Employment.Length_1 year', 0.2412108667775132),\n",
       " ('obj_to_dum__Employment.Length_6 years', 0.388741639827288),\n",
       " ('obj_to_dum__Employment.Length_7 years', 0.3790848502694093),\n",
       " ('obj_to_dum__Employment.Length_8 years', 0.2593824862719707),\n",
       " ('obj_to_dum__Employment.Length_missing', 0.6225033666198094),\n",
       " ('obj_to_dum__Employment.Length_9 years', 0.03018048250228117),\n",
       " ('num__Monthly.Income', -2.612358427045436e-05),\n",
       " ('num__Inquiries.in.the.Last.6.Months', 0.3368430440960185),\n",
       " ('fico__fico', -0.08642253616261364)]"
      ]
     },
     "execution_count": 22,
     "metadata": {},
     "output_type": "execute_result"
    }
   ],
   "source": [
    "list(zip(x_train.columns,ln.coef_))"
   ]
  },
  {
   "cell_type": "code",
   "execution_count": 23,
   "id": "6ee608a9",
   "metadata": {},
   "outputs": [],
   "source": [
    "test_pred=ln.predict(x_test)"
   ]
  },
  {
   "cell_type": "code",
   "execution_count": 24,
   "id": "3c8f5ebe",
   "metadata": {},
   "outputs": [
    {
     "data": {
      "text/plain": [
       "array([16.73641244, 15.9822577 , 10.41724451,  3.71534168, 15.21108834,\n",
       "        7.0351977 , 15.57246453, 10.58352597, 15.94955183, 12.38355726,\n",
       "        9.9366698 , 15.17209087, 11.53730446, 13.67752736, 13.40134753,\n",
       "       18.33363766, 10.18969518, 15.79040256, 13.37967692, 14.03563066,\n",
       "       22.50430604, 17.50946104, 12.12105201, 14.6034318 ,  9.68060525,\n",
       "       11.39039568, 13.33566534, 19.0210008 , 11.80641539, 16.88384891,\n",
       "       15.0680717 , 15.29064393, 12.35705772, 15.07255624, 13.78562695,\n",
       "       14.07528779, 19.52106736, 11.3554855 , 12.00458203, 16.82962478,\n",
       "       14.15907615, 11.12807774, 14.8967374 , 13.17699098, 15.55418833,\n",
       "       17.04873439, 14.90876743, 19.10551152, 17.0897673 , 10.33940429,\n",
       "       13.57931315, 19.75300247, 10.02009378, 19.49728229, 15.57850152,\n",
       "       15.06801067, 17.10315371, 14.53133523, 10.93874049, 14.48472924,\n",
       "       13.05230477, 17.09882657,  8.84706185, 14.56313892, 10.50916007,\n",
       "       11.43247185, 12.79734112, 14.90266567, 12.05952277, 14.46693231,\n",
       "       14.61642033, 17.24253614, 20.74859538, 19.66130931, 13.28429285,\n",
       "       17.07104713, 11.16118596,  9.96673255, 16.52433487,  6.90202742,\n",
       "       15.87937993, 10.15706679,  9.57219514, 12.99523346, 13.95496112,\n",
       "        9.49924577,  9.38426041, 13.94572807,  8.66195304, 11.57397047,\n",
       "       12.25901317, 17.04618049, 13.41702942, 17.8834235 , 14.24337976,\n",
       "       10.33534729, 10.28333794, 17.23214453, 17.02028003, 13.63913691,\n",
       "       15.17532389, 13.53044926, 15.26395786, 14.62634485, 13.5787455 ,\n",
       "       12.34941335,  8.80080108, 11.98600281, 10.87315033, 14.05178105,\n",
       "       11.79478423, 20.27590809,  7.37817216, 16.94432592, 15.66331436,\n",
       "        6.63383276, 13.26581571, 14.32006784, 15.1391901 ,  9.10821353,\n",
       "       16.03673571, 14.28206231,  9.06634593, 12.78765916, 17.35803665,\n",
       "       15.93878834,  8.46703757, 18.50200839,  3.39724375, 12.27473169,\n",
       "       13.7961973 , 13.3088765 ,  9.8496402 , 13.92710505, 18.5139142 ,\n",
       "       14.35730508, 15.54036518, 13.33284933, 13.07236588,  9.59862457,\n",
       "       14.08782458, 14.451644  , 11.7545355 , 11.55627822, 11.70365152,\n",
       "       17.02562701, 12.00469657, 10.53356158,  7.99405754,  9.68813046,\n",
       "       11.40457133, 13.84334017, 10.25821904,  7.74262757, 14.0486759 ,\n",
       "       11.98397484, 11.3107354 ,  7.88019024, 14.56904272, 14.68156561,\n",
       "       14.1753978 ,  7.06137672, 15.04443833, 17.92995103, 15.33557437,\n",
       "       16.02335478, 14.70113576, 10.04286508, 13.40455383, 16.71578232,\n",
       "       14.66111191, 12.82815986,  6.51936432, 13.22566057, 10.28130033,\n",
       "       10.50768685, 11.14317864,  8.83403719,  9.68715601, 11.46665396,\n",
       "       12.87663582, 14.4684547 , 10.37369836, 13.27387361, 10.96984717,\n",
       "       13.80531657,  8.5132627 , 18.04560544, 13.61653922,  9.51676242,\n",
       "        7.66733455, 11.41948849, 16.06881087, 15.43077101, 15.12071832,\n",
       "       17.97421936,  9.1299835 , 18.94151796,  5.1426561 , 13.88557349,\n",
       "       14.60222091, 12.64549969, 18.31677736, 16.7786466 ,  4.75388058,\n",
       "       15.46143631, 15.62628784, 19.6953671 , 16.43838268,  8.74392768,\n",
       "       14.65177739, 11.53404564, 12.19216663, 14.63584165, 10.76178652,\n",
       "       12.39261066, 13.33033737, 20.78950865, 13.77697476,  6.50169857,\n",
       "        5.61054656,  9.40205509, 17.9126057 , 11.37973122, 15.90368123,\n",
       "       14.71936736, 11.78223034, 11.65362939, 12.35723135, 10.58538845,\n",
       "       11.70081297, 14.72006345, 12.7382583 , 16.0598002 ,  7.64720506,\n",
       "       11.24483235, 13.33082032, 10.64117932,  4.96545485, 19.9539124 ,\n",
       "       14.11284775, 19.76047273,  7.92465018, 20.90198417, 12.8532809 ,\n",
       "       12.22709855, 20.1417844 ,  8.86215703,  7.79684632, 12.92622404,\n",
       "       16.05986237, 14.98257927, 10.76343434, 14.0602807 , 15.16670891,\n",
       "       18.90308179, 11.21140191,  7.87663399, 12.45287606, 18.10622623,\n",
       "       16.3169388 , 13.21519814, 18.47406181,  7.48395709, 20.02867774,\n",
       "        8.5430214 , 15.87604891, 10.59547608,  4.60463118, 14.97762265,\n",
       "       13.54600745, 13.15934701,  6.72909469, 10.71216849,  9.87344909,\n",
       "        6.59420979, 14.24278364, 13.76470665, 10.90514913, 14.84945855,\n",
       "       16.68671999, 20.38030416, 16.30565557, 14.46584418, 15.91246507,\n",
       "        8.21080288, 12.81651572, 13.48663564, 10.51817657, 11.80223963,\n",
       "       14.70439909, 10.14162217, 14.36674602,  9.47584891,  7.0147251 ,\n",
       "       15.7421093 , 11.1596704 , 14.46840078, 17.90485492, 12.98514089])"
      ]
     },
     "execution_count": 24,
     "metadata": {},
     "output_type": "execute_result"
    }
   ],
   "source": [
    "test_pred"
   ]
  },
  {
   "cell_type": "code",
   "execution_count": 25,
   "id": "8c3290cc",
   "metadata": {},
   "outputs": [],
   "source": [
    "pd.DataFrame(test_pred).to_csv(\"mysubmission_linearReg.csv\",index=False)"
   ]
  },
  {
   "cell_type": "code",
   "execution_count": 26,
   "id": "10296cbd",
   "metadata": {},
   "outputs": [
    {
     "data": {
      "text/plain": [
       "'C:\\\\Users\\\\chirag\\\\Desktop\\\\ML IITK\\\\ML Intro'"
      ]
     },
     "execution_count": 26,
     "metadata": {},
     "output_type": "execute_result"
    }
   ],
   "source": [
    "import os\n",
    "os.getcwd()"
   ]
  },
  {
   "cell_type": "markdown",
   "id": "9fbc85e8",
   "metadata": {},
   "source": [
    "\n",
    "# Ridge Regression"
   ]
  },
  {
   "cell_type": "code",
   "execution_count": 27,
   "id": "db731af1",
   "metadata": {},
   "outputs": [],
   "source": [
    "from sklearn.linear_model import Ridge,Lasso\n",
    "from sklearn.model_selection import GridSearchCV"
   ]
  },
  {
   "cell_type": "code",
   "execution_count": 28,
   "id": "7ad141c8",
   "metadata": {},
   "outputs": [],
   "source": [
    "lambdas=np.linspace(1,100,100)"
   ]
  },
  {
   "cell_type": "code",
   "execution_count": 29,
   "id": "dd648783",
   "metadata": {},
   "outputs": [
    {
     "data": {
      "text/plain": [
       "array([  1.,   2.,   3.,   4.,   5.,   6.,   7.,   8.,   9.,  10.,  11.,\n",
       "        12.,  13.,  14.,  15.,  16.,  17.,  18.,  19.,  20.,  21.,  22.,\n",
       "        23.,  24.,  25.,  26.,  27.,  28.,  29.,  30.,  31.,  32.,  33.,\n",
       "        34.,  35.,  36.,  37.,  38.,  39.,  40.,  41.,  42.,  43.,  44.,\n",
       "        45.,  46.,  47.,  48.,  49.,  50.,  51.,  52.,  53.,  54.,  55.,\n",
       "        56.,  57.,  58.,  59.,  60.,  61.,  62.,  63.,  64.,  65.,  66.,\n",
       "        67.,  68.,  69.,  70.,  71.,  72.,  73.,  74.,  75.,  76.,  77.,\n",
       "        78.,  79.,  80.,  81.,  82.,  83.,  84.,  85.,  86.,  87.,  88.,\n",
       "        89.,  90.,  91.,  92.,  93.,  94.,  95.,  96.,  97.,  98.,  99.,\n",
       "       100.])"
      ]
     },
     "execution_count": 29,
     "metadata": {},
     "output_type": "execute_result"
    }
   ],
   "source": [
    "lambdas"
   ]
  },
  {
   "cell_type": "code",
   "execution_count": 30,
   "id": "3427bc50",
   "metadata": {},
   "outputs": [],
   "source": [
    "params={'alpha':lambdas}"
   ]
  },
  {
   "cell_type": "code",
   "execution_count": 31,
   "id": "a18f1ca8",
   "metadata": {},
   "outputs": [
    {
     "data": {
      "text/plain": [
       "{'alpha': array([  1.,   2.,   3.,   4.,   5.,   6.,   7.,   8.,   9.,  10.,  11.,\n",
       "         12.,  13.,  14.,  15.,  16.,  17.,  18.,  19.,  20.,  21.,  22.,\n",
       "         23.,  24.,  25.,  26.,  27.,  28.,  29.,  30.,  31.,  32.,  33.,\n",
       "         34.,  35.,  36.,  37.,  38.,  39.,  40.,  41.,  42.,  43.,  44.,\n",
       "         45.,  46.,  47.,  48.,  49.,  50.,  51.,  52.,  53.,  54.,  55.,\n",
       "         56.,  57.,  58.,  59.,  60.,  61.,  62.,  63.,  64.,  65.,  66.,\n",
       "         67.,  68.,  69.,  70.,  71.,  72.,  73.,  74.,  75.,  76.,  77.,\n",
       "         78.,  79.,  80.,  81.,  82.,  83.,  84.,  85.,  86.,  87.,  88.,\n",
       "         89.,  90.,  91.,  92.,  93.,  94.,  95.,  96.,  97.,  98.,  99.,\n",
       "        100.])}"
      ]
     },
     "execution_count": 31,
     "metadata": {},
     "output_type": "execute_result"
    }
   ],
   "source": [
    "params"
   ]
  },
  {
   "cell_type": "code",
   "execution_count": 32,
   "id": "da22203c",
   "metadata": {},
   "outputs": [],
   "source": [
    "model=Ridge(fit_intercept=True)"
   ]
  },
  {
   "cell_type": "code",
   "execution_count": 33,
   "id": "36545e6c",
   "metadata": {},
   "outputs": [],
   "source": [
    "grid_search=GridSearchCV(model,\n",
    "                         param_grid=params,\n",
    "                         cv=10,\n",
    "                        scoring='neg_mean_absolute_error',\n",
    "                        verbose=20,\n",
    "                        n_jobs=-1)"
   ]
  },
  {
   "cell_type": "code",
   "execution_count": 34,
   "id": "e80f3488",
   "metadata": {},
   "outputs": [
    {
     "name": "stdout",
     "output_type": "stream",
     "text": [
      "Fitting 10 folds for each of 100 candidates, totalling 1000 fits\n"
     ]
    },
    {
     "data": {
      "text/plain": [
       "GridSearchCV(cv=10, estimator=Ridge(), n_jobs=-1,\n",
       "             param_grid={'alpha': array([  1.,   2.,   3.,   4.,   5.,   6.,   7.,   8.,   9.,  10.,  11.,\n",
       "        12.,  13.,  14.,  15.,  16.,  17.,  18.,  19.,  20.,  21.,  22.,\n",
       "        23.,  24.,  25.,  26.,  27.,  28.,  29.,  30.,  31.,  32.,  33.,\n",
       "        34.,  35.,  36.,  37.,  38.,  39.,  40.,  41.,  42.,  43.,  44.,\n",
       "        45.,  46.,  47.,  48.,  49.,  50.,  51.,  52.,  53.,  54.,  55.,\n",
       "        56.,  57.,  58.,  59.,  60.,  61.,  62.,  63.,  64.,  65.,  66.,\n",
       "        67.,  68.,  69.,  70.,  71.,  72.,  73.,  74.,  75.,  76.,  77.,\n",
       "        78.,  79.,  80.,  81.,  82.,  83.,  84.,  85.,  86.,  87.,  88.,\n",
       "        89.,  90.,  91.,  92.,  93.,  94.,  95.,  96.,  97.,  98.,  99.,\n",
       "       100.])},\n",
       "             scoring='neg_mean_absolute_error', verbose=20)"
      ]
     },
     "execution_count": 34,
     "metadata": {},
     "output_type": "execute_result"
    }
   ],
   "source": [
    "grid_search.fit(x_train,y_train)"
   ]
  },
  {
   "cell_type": "code",
   "execution_count": 35,
   "id": "e8e7f9a0",
   "metadata": {},
   "outputs": [
    {
     "data": {
      "text/plain": [
       "Ridge(alpha=59.0)"
      ]
     },
     "execution_count": 35,
     "metadata": {},
     "output_type": "execute_result"
    }
   ],
   "source": [
    "grid_search.best_estimator_"
   ]
  },
  {
   "cell_type": "code",
   "execution_count": 36,
   "id": "3adaed52",
   "metadata": {},
   "outputs": [
    {
     "data": {
      "text/plain": [
       "{'mean_fit_time': array([0.04086809, 0.01936839, 0.01887343, 0.01629038, 0.01497779,\n",
       "        0.01347091, 0.01660554, 0.01664069, 0.01493711, 0.01352284,\n",
       "        0.01517444, 0.01513546, 0.01591234, 0.01562688, 0.01527777,\n",
       "        0.01401622, 0.01306164, 0.01387515, 0.01247728, 0.01388783,\n",
       "        0.01483209, 0.01466217, 0.01349008, 0.01124794, 0.01503575,\n",
       "        0.01486397, 0.01542032, 0.01314018, 0.01644392, 0.01271317,\n",
       "        0.01560929, 0.01543617, 0.0157562 , 0.01439147, 0.01716282,\n",
       "        0.01604369, 0.01662116, 0.01558187, 0.01885607, 0.01509814,\n",
       "        0.01676896, 0.01578956, 0.01485858, 0.01501493, 0.0129071 ,\n",
       "        0.01334889, 0.01491828, 0.01111236, 0.01435809, 0.01474752,\n",
       "        0.01358964, 0.01131248, 0.00971413, 0.01232839, 0.0115545 ,\n",
       "        0.01411836, 0.01335719, 0.00962236, 0.01214595, 0.01668491,\n",
       "        0.01314299, 0.01376679, 0.01572402, 0.01632946, 0.01483583,\n",
       "        0.01452491, 0.01673269, 0.01538966, 0.01602259, 0.01620123,\n",
       "        0.01378465, 0.01567199, 0.01424479, 0.01717272, 0.01642096,\n",
       "        0.01825082, 0.01702092, 0.01555836, 0.01563849, 0.01720927,\n",
       "        0.01396327, 0.01534562, 0.01584358, 0.01187513, 0.01602888,\n",
       "        0.0122515 , 0.01533284, 0.0149014 , 0.01636558, 0.01449752,\n",
       "        0.01446443, 0.014889  , 0.01649511, 0.01437457, 0.01454854,\n",
       "        0.01932359, 0.0162106 , 0.02028298, 0.01642225, 0.01783814]),\n",
       " 'std_fit_time': array([0.01362677, 0.00387787, 0.00238145, 0.00351874, 0.00252249,\n",
       "        0.00340583, 0.0018419 , 0.00184386, 0.00120401, 0.00307063,\n",
       "        0.00256152, 0.00321936, 0.00104468, 0.00181098, 0.00304237,\n",
       "        0.00522552, 0.00498528, 0.00343241, 0.00498384, 0.00493263,\n",
       "        0.00258595, 0.00511882, 0.00438785, 0.00599955, 0.00507084,\n",
       "        0.00234983, 0.00662795, 0.00480058, 0.00268055, 0.00646677,\n",
       "        0.00552776, 0.00340319, 0.0054819 , 0.00532821, 0.00297293,\n",
       "        0.00397888, 0.00274114, 0.00521472, 0.00590369, 0.00493013,\n",
       "        0.00449158, 0.00341668, 0.0045973 , 0.00310598, 0.00367291,\n",
       "        0.00355615, 0.0025659 , 0.00430096, 0.00498595, 0.0028866 ,\n",
       "        0.00344909, 0.00418601, 0.00569424, 0.00613412, 0.00481786,\n",
       "        0.00506605, 0.00483391, 0.00586158, 0.00531544, 0.00429135,\n",
       "        0.00628067, 0.00361542, 0.00442777, 0.00470255, 0.00479206,\n",
       "        0.00460624, 0.00360306, 0.0031067 , 0.00566657, 0.00162454,\n",
       "        0.00545133, 0.00457723, 0.00248767, 0.00477803, 0.00122598,\n",
       "        0.00375771, 0.00307085, 0.00264362, 0.0026283 , 0.0029402 ,\n",
       "        0.00340358, 0.0066614 , 0.00543814, 0.00792281, 0.00611354,\n",
       "        0.00501649, 0.00461326, 0.00605001, 0.00260083, 0.00350435,\n",
       "        0.0027138 , 0.00377977, 0.00249285, 0.00291674, 0.00603536,\n",
       "        0.00685596, 0.00353565, 0.00497224, 0.00600885, 0.00293346]),\n",
       " 'mean_score_time': array([0.00703919, 0.00683463, 0.00596972, 0.0076159 , 0.00557954,\n",
       "        0.00653095, 0.00432043, 0.00692468, 0.00654287, 0.00477831,\n",
       "        0.00505857, 0.00622211, 0.0045676 , 0.00531781, 0.00548856,\n",
       "        0.00652564, 0.00449226, 0.00520644, 0.00404031, 0.0046427 ,\n",
       "        0.00387514, 0.00249975, 0.00548754, 0.00663142, 0.00638175,\n",
       "        0.00156291, 0.0028435 , 0.00616825, 0.00595453, 0.0073844 ,\n",
       "        0.00666275, 0.00868278, 0.00732546, 0.0076472 , 0.00565627,\n",
       "        0.00707395, 0.00747888, 0.00857656, 0.00501943, 0.00762346,\n",
       "        0.00785747, 0.00538719, 0.0051264 , 0.00467894, 0.00719991,\n",
       "        0.00436974, 0.00355191, 0.00705426, 0.00445206, 0.00309253,\n",
       "        0.00261779, 0.00548308, 0.00822911, 0.00493929, 0.00509286,\n",
       "        0.00480464, 0.00465221, 0.00677671, 0.00541005, 0.00282679,\n",
       "        0.0052542 , 0.00443637, 0.00578983, 0.00407672, 0.00614703,\n",
       "        0.00625634, 0.0055644 , 0.00773578, 0.00903356, 0.00640142,\n",
       "        0.0073895 , 0.00607431, 0.00480471, 0.00355182, 0.00733602,\n",
       "        0.0033206 , 0.00654557, 0.00807476, 0.00579104, 0.00644252,\n",
       "        0.00793102, 0.00656126, 0.00750315, 0.00971143, 0.0078403 ,\n",
       "        0.0104974 , 0.00712061, 0.00681436, 0.00575931, 0.00563421,\n",
       "        0.00997553, 0.00608728, 0.00629826, 0.00879874, 0.00985153,\n",
       "        0.00893044, 0.00838542, 0.00596368, 0.00356224, 0.00625107]),\n",
       " 'std_score_time': array([0.00139174, 0.00515249, 0.002395  , 0.00357079, 0.00412508,\n",
       "        0.00301931, 0.00358242, 0.00182312, 0.00260869, 0.00528055,\n",
       "        0.00375603, 0.00253356, 0.00334359, 0.00389844, 0.00253839,\n",
       "        0.00564458, 0.00513012, 0.00594003, 0.0065265 , 0.00642321,\n",
       "        0.00568553, 0.00494566, 0.00702625, 0.00724559, 0.00654368,\n",
       "        0.00468872, 0.005055  , 0.00700994, 0.00437206, 0.00674288,\n",
       "        0.00529174, 0.00522151, 0.00608336, 0.00623155, 0.00330256,\n",
       "        0.00472006, 0.00270139, 0.00626954, 0.00446949, 0.00470831,\n",
       "        0.00232424, 0.00389689, 0.00312675, 0.00385107, 0.00304436,\n",
       "        0.00384516, 0.00280976, 0.00440306, 0.00491774, 0.003134  ,\n",
       "        0.0033995 , 0.00507869, 0.00554685, 0.00548106, 0.00487991,\n",
       "        0.00535318, 0.00583593, 0.00558381, 0.00640138, 0.0036797 ,\n",
       "        0.0062151 , 0.00518571, 0.00612638, 0.00606416, 0.00686756,\n",
       "        0.00766243, 0.00760382, 0.00729233, 0.00779688, 0.00703634,\n",
       "        0.00706738, 0.00749985, 0.00734508, 0.00604118, 0.00714019,\n",
       "        0.00540343, 0.00695103, 0.00842543, 0.00720373, 0.00688898,\n",
       "        0.00770746, 0.00669551, 0.00630056, 0.00680717, 0.00635769,\n",
       "        0.00618596, 0.00700929, 0.00603512, 0.00592175, 0.00655664,\n",
       "        0.00674294, 0.00682053, 0.00684002, 0.007376  , 0.00675679,\n",
       "        0.00613574, 0.00688345, 0.00518379, 0.00469041, 0.00435952]),\n",
       " 'param_alpha': masked_array(data=[1.0, 2.0, 3.0, 4.0, 5.0, 6.0, 7.0, 8.0, 9.0, 10.0,\n",
       "                    11.0, 12.0, 13.0, 14.0, 15.0, 16.0, 17.0, 18.0, 19.0,\n",
       "                    20.0, 21.0, 22.0, 23.0, 24.0, 25.0, 26.0, 27.0, 28.0,\n",
       "                    29.0, 30.0, 31.0, 32.0, 33.0, 34.0, 35.0, 36.0, 37.0,\n",
       "                    38.0, 39.0, 40.0, 41.0, 42.0, 43.0, 44.0, 45.0, 46.0,\n",
       "                    47.0, 48.0, 49.0, 50.0, 51.0, 52.0, 53.0, 54.0, 55.0,\n",
       "                    56.0, 57.0, 58.0, 59.0, 60.0, 61.0, 62.0, 63.0, 64.0,\n",
       "                    65.0, 66.0, 67.0, 68.0, 69.0, 70.0, 71.0, 72.0, 73.0,\n",
       "                    74.0, 75.0, 76.0, 77.0, 78.0, 79.0, 80.0, 81.0, 82.0,\n",
       "                    83.0, 84.0, 85.0, 86.0, 87.0, 88.0, 89.0, 90.0, 91.0,\n",
       "                    92.0, 93.0, 94.0, 95.0, 96.0, 97.0, 98.0, 99.0, 100.0],\n",
       "              mask=[False, False, False, False, False, False, False, False,\n",
       "                    False, False, False, False, False, False, False, False,\n",
       "                    False, False, False, False, False, False, False, False,\n",
       "                    False, False, False, False, False, False, False, False,\n",
       "                    False, False, False, False, False, False, False, False,\n",
       "                    False, False, False, False, False, False, False, False,\n",
       "                    False, False, False, False, False, False, False, False,\n",
       "                    False, False, False, False, False, False, False, False,\n",
       "                    False, False, False, False, False, False, False, False,\n",
       "                    False, False, False, False, False, False, False, False,\n",
       "                    False, False, False, False, False, False, False, False,\n",
       "                    False, False, False, False, False, False, False, False,\n",
       "                    False, False, False, False],\n",
       "        fill_value='?',\n",
       "             dtype=object),\n",
       " 'params': [{'alpha': 1.0},\n",
       "  {'alpha': 2.0},\n",
       "  {'alpha': 3.0},\n",
       "  {'alpha': 4.0},\n",
       "  {'alpha': 5.0},\n",
       "  {'alpha': 6.0},\n",
       "  {'alpha': 7.0},\n",
       "  {'alpha': 8.0},\n",
       "  {'alpha': 9.0},\n",
       "  {'alpha': 10.0},\n",
       "  {'alpha': 11.0},\n",
       "  {'alpha': 12.0},\n",
       "  {'alpha': 13.0},\n",
       "  {'alpha': 14.0},\n",
       "  {'alpha': 15.0},\n",
       "  {'alpha': 16.0},\n",
       "  {'alpha': 17.0},\n",
       "  {'alpha': 18.0},\n",
       "  {'alpha': 19.0},\n",
       "  {'alpha': 20.0},\n",
       "  {'alpha': 21.0},\n",
       "  {'alpha': 22.0},\n",
       "  {'alpha': 23.0},\n",
       "  {'alpha': 24.0},\n",
       "  {'alpha': 25.0},\n",
       "  {'alpha': 26.0},\n",
       "  {'alpha': 27.0},\n",
       "  {'alpha': 28.0},\n",
       "  {'alpha': 29.0},\n",
       "  {'alpha': 30.0},\n",
       "  {'alpha': 31.0},\n",
       "  {'alpha': 32.0},\n",
       "  {'alpha': 33.0},\n",
       "  {'alpha': 34.0},\n",
       "  {'alpha': 35.0},\n",
       "  {'alpha': 36.0},\n",
       "  {'alpha': 37.0},\n",
       "  {'alpha': 38.0},\n",
       "  {'alpha': 39.0},\n",
       "  {'alpha': 40.0},\n",
       "  {'alpha': 41.0},\n",
       "  {'alpha': 42.0},\n",
       "  {'alpha': 43.0},\n",
       "  {'alpha': 44.0},\n",
       "  {'alpha': 45.0},\n",
       "  {'alpha': 46.0},\n",
       "  {'alpha': 47.0},\n",
       "  {'alpha': 48.0},\n",
       "  {'alpha': 49.0},\n",
       "  {'alpha': 50.0},\n",
       "  {'alpha': 51.0},\n",
       "  {'alpha': 52.0},\n",
       "  {'alpha': 53.0},\n",
       "  {'alpha': 54.0},\n",
       "  {'alpha': 55.0},\n",
       "  {'alpha': 56.0},\n",
       "  {'alpha': 57.0},\n",
       "  {'alpha': 58.0},\n",
       "  {'alpha': 59.0},\n",
       "  {'alpha': 60.0},\n",
       "  {'alpha': 61.0},\n",
       "  {'alpha': 62.0},\n",
       "  {'alpha': 63.0},\n",
       "  {'alpha': 64.0},\n",
       "  {'alpha': 65.0},\n",
       "  {'alpha': 66.0},\n",
       "  {'alpha': 67.0},\n",
       "  {'alpha': 68.0},\n",
       "  {'alpha': 69.0},\n",
       "  {'alpha': 70.0},\n",
       "  {'alpha': 71.0},\n",
       "  {'alpha': 72.0},\n",
       "  {'alpha': 73.0},\n",
       "  {'alpha': 74.0},\n",
       "  {'alpha': 75.0},\n",
       "  {'alpha': 76.0},\n",
       "  {'alpha': 77.0},\n",
       "  {'alpha': 78.0},\n",
       "  {'alpha': 79.0},\n",
       "  {'alpha': 80.0},\n",
       "  {'alpha': 81.0},\n",
       "  {'alpha': 82.0},\n",
       "  {'alpha': 83.0},\n",
       "  {'alpha': 84.0},\n",
       "  {'alpha': 85.0},\n",
       "  {'alpha': 86.0},\n",
       "  {'alpha': 87.0},\n",
       "  {'alpha': 88.0},\n",
       "  {'alpha': 89.0},\n",
       "  {'alpha': 90.0},\n",
       "  {'alpha': 91.0},\n",
       "  {'alpha': 92.0},\n",
       "  {'alpha': 93.0},\n",
       "  {'alpha': 94.0},\n",
       "  {'alpha': 95.0},\n",
       "  {'alpha': 96.0},\n",
       "  {'alpha': 97.0},\n",
       "  {'alpha': 98.0},\n",
       "  {'alpha': 99.0},\n",
       "  {'alpha': 100.0}],\n",
       " 'split0_test_score': array([-1.74339538, -1.7437103 , -1.74390396, -1.74400738, -1.74405717,\n",
       "        -1.74407232, -1.7440639 , -1.7440705 , -1.74412344, -1.74416348,\n",
       "        -1.74426056, -1.74435414, -1.74444034, -1.74452029, -1.74459493,\n",
       "        -1.74466501, -1.74473117, -1.74479393, -1.74485374, -1.74491097,\n",
       "        -1.74496596, -1.74501897, -1.74507025, -1.74512001, -1.74516844,\n",
       "        -1.74521568, -1.74529333, -1.74536979, -1.74544499, -1.74551906,\n",
       "        -1.74559209, -1.74566417, -1.74573539, -1.74582424, -1.74591769,\n",
       "        -1.74601004, -1.74610135, -1.74619168, -1.7462811 , -1.74636966,\n",
       "        -1.7464574 , -1.74654437, -1.74663062, -1.74671617, -1.74680108,\n",
       "        -1.74688536, -1.74696906, -1.7470522 , -1.74714301, -1.74725721,\n",
       "        -1.74737088, -1.74748406, -1.74759676, -1.747709  , -1.74785884,\n",
       "        -1.74802097, -1.7481819 , -1.74834165, -1.74850028, -1.7486578 ,\n",
       "        -1.74881426, -1.74896968, -1.7491241 , -1.74927753, -1.7494394 ,\n",
       "        -1.74964702, -1.7498535 , -1.75005887, -1.75026316, -1.75046637,\n",
       "        -1.75066854, -1.75086968, -1.75106982, -1.75127625, -1.75152592,\n",
       "        -1.75177414, -1.75202094, -1.75226634, -1.75251036, -1.75276211,\n",
       "        -1.75304267, -1.75332174, -1.75359932, -1.75387546, -1.75415017,\n",
       "        -1.75442347, -1.75469537, -1.75496591, -1.7552351 , -1.75550296,\n",
       "        -1.7557695 , -1.75603475, -1.75629872, -1.75656143, -1.75683773,\n",
       "        -1.75714309, -1.757447  , -1.75774947, -1.75805051, -1.75835016]),\n",
       " 'split1_test_score': array([-1.758411  , -1.75446021, -1.75155167, -1.74933634, -1.74736299,\n",
       "        -1.74555129, -1.74386912, -1.7422957 , -1.74083965, -1.739472  ,\n",
       "        -1.73817665, -1.73694681, -1.73577674, -1.73466152, -1.73366474,\n",
       "        -1.73276632, -1.73191881, -1.73110973, -1.73033645, -1.72959661,\n",
       "        -1.72888806, -1.72820883, -1.72757691, -1.72700716, -1.72645992,\n",
       "        -1.72593388, -1.72542786, -1.72494073, -1.72447149, -1.72404078,\n",
       "        -1.72362954, -1.72323313, -1.72285079, -1.72248181, -1.72212552,\n",
       "        -1.72178132, -1.72144862, -1.72112687, -1.72081557, -1.72051423,\n",
       "        -1.72022242, -1.71993969, -1.71966566, -1.71939995, -1.71914221,\n",
       "        -1.71889209, -1.71864928, -1.71841348, -1.7181844 , -1.71796179,\n",
       "        -1.71774538, -1.71753492, -1.7173302 , -1.71714207, -1.71695911,\n",
       "        -1.71678068, -1.71660661, -1.71643676, -1.71627097, -1.7161091 ,\n",
       "        -1.71595103, -1.71579661, -1.71564574, -1.71549829, -1.71535415,\n",
       "        -1.71521321, -1.71507537, -1.71494053, -1.7148086 , -1.71467948,\n",
       "        -1.71455308, -1.71442933, -1.71430814, -1.71418943, -1.71407313,\n",
       "        -1.71395917, -1.71384748, -1.71373799, -1.71363064, -1.71353134,\n",
       "        -1.71345342, -1.71337713, -1.71330241, -1.71322923, -1.71315753,\n",
       "        -1.71308727, -1.71301842, -1.71295094, -1.71288478, -1.7128199 ,\n",
       "        -1.71275629, -1.71269389, -1.71263268, -1.71257262, -1.71251398,\n",
       "        -1.7124601 , -1.71240722, -1.71235531, -1.71230436, -1.71225966]),\n",
       " 'split2_test_score': array([-1.77201639, -1.77172691, -1.77090824, -1.76990199, -1.76883335,\n",
       "        -1.76776328, -1.76671888, -1.76571221, -1.76474811, -1.76401879,\n",
       "        -1.76347757, -1.76296093, -1.76266518, -1.76243856, -1.76222261,\n",
       "        -1.76201684, -1.76182071, -1.76163371, -1.76145533, -1.76128507,\n",
       "        -1.76112247, -1.7609671 , -1.76081855, -1.76067644, -1.76054042,\n",
       "        -1.76041016, -1.76030262, -1.76020563, -1.76011291, -1.76002424,\n",
       "        -1.75993941, -1.75985825, -1.75978057, -1.75970622, -1.75963504,\n",
       "        -1.75956688, -1.75950162, -1.75943912, -1.75937926, -1.75932194,\n",
       "        -1.75926859, -1.75922577, -1.75918503, -1.75914629, -1.75910948,\n",
       "        -1.75907451, -1.75904131, -1.75900981, -1.75897995, -1.75895167,\n",
       "        -1.75892491, -1.7588996 , -1.75887571, -1.75889368, -1.75891886,\n",
       "        -1.75894453, -1.75897069, -1.7589973 , -1.75902434, -1.7590518 ,\n",
       "        -1.75907966, -1.75910789, -1.75913649, -1.75916543, -1.75919471,\n",
       "        -1.7592243 , -1.7592542 , -1.75928439, -1.75931485, -1.759348  ,\n",
       "        -1.75941833, -1.75948869, -1.75955908, -1.75962949, -1.7596999 ,\n",
       "        -1.75977033, -1.75984075, -1.75991118, -1.75998159, -1.76005199,\n",
       "        -1.76012238, -1.7601963 , -1.76028615, -1.76037601, -1.76046586,\n",
       "        -1.76058604, -1.76071497, -1.76084373, -1.76097232, -1.76110075,\n",
       "        -1.76122901, -1.76135709, -1.7614934 , -1.76165001, -1.76181023,\n",
       "        -1.76197152, -1.76213209, -1.76229197, -1.76247945, -1.76266942]),\n",
       " 'split3_test_score': array([-1.65358958, -1.65313863, -1.65281521, -1.65254316, -1.65229879,\n",
       "        -1.65207919, -1.65188051, -1.65169926, -1.6515326 , -1.65137819,\n",
       "        -1.65123422, -1.65109919, -1.6509719 , -1.65085139, -1.65073684,\n",
       "        -1.65062915, -1.65054129, -1.65045643, -1.65037433, -1.65029477,\n",
       "        -1.65022743, -1.65021671, -1.65022655, -1.65023472, -1.65024136,\n",
       "        -1.65024662, -1.6502506 , -1.6502876 , -1.65034428, -1.65039998,\n",
       "        -1.65045311, -1.65050379, -1.65055217, -1.65059834, -1.65067193,\n",
       "        -1.65074537, -1.65081648, -1.65088535, -1.65095206, -1.6510167 ,\n",
       "        -1.65107934, -1.6511517 , -1.65122967, -1.65130579, -1.65138012,\n",
       "        -1.65145583, -1.65155989, -1.65166536, -1.65176928, -1.65187147,\n",
       "        -1.65197199, -1.65207087, -1.65216816, -1.6522639 , -1.65235814,\n",
       "        -1.65245089, -1.65254222, -1.65263214, -1.6527207 , -1.65280792,\n",
       "        -1.65289384, -1.65297849, -1.65306189, -1.65314408, -1.65322508,\n",
       "        -1.65330492, -1.65338363, -1.65346122, -1.65353772, -1.65361317,\n",
       "        -1.65368757, -1.65376095, -1.65383333, -1.65390474, -1.65397519,\n",
       "        -1.6540447 , -1.65411329, -1.65418119, -1.65425131, -1.65432058,\n",
       "        -1.654389  , -1.6544566 , -1.65452339, -1.65458939, -1.65465461,\n",
       "        -1.65471907, -1.65478278, -1.65484575, -1.65490859, -1.6549849 ,\n",
       "        -1.65506039, -1.65513507, -1.65520895, -1.65528205, -1.65535439,\n",
       "        -1.65542597, -1.65549682, -1.65556693, -1.65563634, -1.65570504]),\n",
       " 'split4_test_score': array([-1.44801082, -1.45052977, -1.45118902, -1.45111028, -1.45067461,\n",
       "        -1.45006672, -1.44951862, -1.44891714, -1.44828606, -1.44762076,\n",
       "        -1.44693529, -1.44624545, -1.44555475, -1.44486386, -1.44417599,\n",
       "        -1.44349333, -1.44281745, -1.44214939, -1.44148986, -1.4408623 ,\n",
       "        -1.44024705, -1.43964077, -1.43904347, -1.43845515, -1.43787569,\n",
       "        -1.43730498, -1.43674285, -1.43618913, -1.43564363, -1.43510615,\n",
       "        -1.43457648, -1.43405442, -1.43353977, -1.43303232, -1.43253187,\n",
       "        -1.43205871, -1.43166209, -1.43127069, -1.43088436, -1.43050297,\n",
       "        -1.43012637, -1.42975442, -1.42938701, -1.429024  , -1.42866528,\n",
       "        -1.42833214, -1.42801689, -1.42770513, -1.42739677, -1.42709171,\n",
       "        -1.42678988, -1.4264912 , -1.42619558, -1.42590295, -1.42561325,\n",
       "        -1.4253264 , -1.42504233, -1.42478078, -1.42453012, -1.42428174,\n",
       "        -1.42405624, -1.42386949, -1.42371666, -1.42358557, -1.42346806,\n",
       "        -1.42335134, -1.4232354 , -1.42312024, -1.42300585, -1.42289221,\n",
       "        -1.42277932, -1.42266717, -1.42255575, -1.42245963, -1.42237729,\n",
       "        -1.42230123, -1.4222258 , -1.42215101, -1.42207685, -1.42200504,\n",
       "        -1.42193874, -1.42187297, -1.42180773, -1.42174301, -1.4216788 ,\n",
       "        -1.4216151 , -1.42155191, -1.42148921, -1.42142701, -1.42136529,\n",
       "        -1.42130405, -1.42124329, -1.42118301, -1.42112319, -1.42106383,\n",
       "        -1.42100493, -1.42094648, -1.42088848, -1.42083092, -1.4207738 ]),\n",
       " 'split5_test_score': array([-1.6222821 , -1.62338948, -1.62323198, -1.62268237, -1.62224106,\n",
       "        -1.6217678 , -1.62125597, -1.62073346, -1.62020325, -1.61967247,\n",
       "        -1.61914547, -1.61863717, -1.61819979, -1.61778943, -1.61738615,\n",
       "        -1.61699048, -1.61660272, -1.61622303, -1.61585143, -1.61548789,\n",
       "        -1.61513231, -1.61478456, -1.61444447, -1.61411186, -1.61378654,\n",
       "        -1.61346832, -1.613157  , -1.61285238, -1.61255425, -1.61226243,\n",
       "        -1.61197671, -1.61169692, -1.61142654, -1.61117585, -1.6109301 ,\n",
       "        -1.61068914, -1.61045283, -1.61023589, -1.61004154, -1.60985096,\n",
       "        -1.60966404, -1.60948066, -1.60930072, -1.6091241 , -1.60897576,\n",
       "        -1.60883395, -1.60869482, -1.60855828, -1.60842426, -1.60829268,\n",
       "        -1.60816346, -1.60803654, -1.60791184, -1.60778931, -1.60766888,\n",
       "        -1.60755049, -1.60743408, -1.60731959, -1.60720698, -1.60709618,\n",
       "        -1.60698715, -1.60687984, -1.60677421, -1.60668267, -1.60659783,\n",
       "        -1.60651451, -1.60643267, -1.60635225, -1.60627324, -1.60619558,\n",
       "        -1.60611924, -1.60605048, -1.60598706, -1.60592472, -1.60586342,\n",
       "        -1.60580602, -1.6057513 , -1.6056976 , -1.60564488, -1.60559312,\n",
       "        -1.6055423 , -1.60549238, -1.60544335, -1.60539519, -1.60534786,\n",
       "        -1.60530135, -1.60525564, -1.60521071, -1.60516654, -1.6051231 ,\n",
       "        -1.60508039, -1.60503838, -1.60499705, -1.60495639, -1.60491639,\n",
       "        -1.60487702, -1.60483827, -1.60480012, -1.60476257, -1.6047256 ]),\n",
       " 'split6_test_score': array([-1.44282543, -1.44249212, -1.44206973, -1.4415697 , -1.44108427,\n",
       "        -1.44055919, -1.44001636, -1.43946761, -1.43891967, -1.43837648,\n",
       "        -1.43784038, -1.43731276, -1.43679442, -1.43628578, -1.435787  ,\n",
       "        -1.43531674, -1.43486381, -1.43442035, -1.43398617, -1.43356105,\n",
       "        -1.43317377, -1.43279859, -1.4324313 , -1.43207169, -1.43171953,\n",
       "        -1.43137458, -1.43103664, -1.43070549, -1.43038092, -1.43006273,\n",
       "        -1.42975074, -1.42945621, -1.42917909, -1.42890759, -1.42864155,\n",
       "        -1.42841436, -1.42819509, -1.42798027, -1.42776978, -1.42756352,\n",
       "        -1.42736137, -1.42716322, -1.42696898, -1.42677853, -1.42659178,\n",
       "        -1.42640864, -1.42622901, -1.42605281, -1.42587995, -1.42571035,\n",
       "        -1.42554393, -1.4253806 , -1.4252203 , -1.42506295, -1.42490848,\n",
       "        -1.42476022, -1.42463805, -1.42452276, -1.42440984, -1.42429925,\n",
       "        -1.42419092, -1.42408481, -1.42398086, -1.42387902, -1.42377924,\n",
       "        -1.42371918, -1.42366317, -1.42360888, -1.42355628, -1.42350531,\n",
       "        -1.42345595, -1.42340814, -1.42336187, -1.42331708, -1.42329995,\n",
       "        -1.42328964, -1.42328044, -1.42327231, -1.42326524, -1.42325919,\n",
       "        -1.42325871, -1.42326386, -1.4232699 , -1.42327681, -1.42328457,\n",
       "        -1.42329315, -1.42330254, -1.42331271, -1.42332365, -1.42333748,\n",
       "        -1.42335706, -1.42337735, -1.42339831, -1.42341994, -1.42344222,\n",
       "        -1.42346514, -1.42348867, -1.4235128 , -1.42354901, -1.42360956]),\n",
       " 'split7_test_score': array([-1.57836411, -1.57656224, -1.57530941, -1.57418229, -1.57313535,\n",
       "        -1.57215847, -1.57124372, -1.57038455, -1.56957545, -1.56881165,\n",
       "        -1.56808901, -1.56740391, -1.56675315, -1.56613393, -1.56554373,\n",
       "        -1.56498032, -1.56448889, -1.56408786, -1.56378889, -1.56350107,\n",
       "        -1.56322365, -1.56295594, -1.56269734, -1.56244729, -1.56220529,\n",
       "        -1.56197088, -1.56174363, -1.56152316, -1.56130912, -1.56110118,\n",
       "        -1.56089904, -1.56075003, -1.56060772, -1.56047029, -1.56033752,\n",
       "        -1.5602092 , -1.56008512, -1.5599651 , -1.55984897, -1.55973656,\n",
       "        -1.55962773, -1.55952233, -1.55942023, -1.5593213 , -1.55922543,\n",
       "        -1.55914551, -1.55908996, -1.55903695, -1.55898639, -1.5589382 ,\n",
       "        -1.5588923 , -1.55884861, -1.55880706, -1.55876758, -1.55873009,\n",
       "        -1.55869454, -1.55866087, -1.55862902, -1.55859893, -1.55857055,\n",
       "        -1.55854383, -1.55851872, -1.55849518, -1.55847315, -1.5584526 ,\n",
       "        -1.55845694, -1.55847742, -1.55849853, -1.55852025, -1.55854258,\n",
       "        -1.55856549, -1.55858898, -1.55861303, -1.55863763, -1.55866277,\n",
       "        -1.55868844, -1.55871462, -1.55874973, -1.55879855, -1.55884894,\n",
       "        -1.5589146 , -1.55898047, -1.55904655, -1.55911284, -1.55917932,\n",
       "        -1.55924599, -1.55931286, -1.5593799 , -1.55944713, -1.55951453,\n",
       "        -1.55958211, -1.55964985, -1.55971775, -1.55978581, -1.55985402,\n",
       "        -1.55992238, -1.55999089, -1.56005954, -1.56012833, -1.56019725]),\n",
       " 'split8_test_score': array([-1.51740359, -1.51550374, -1.51464712, -1.51420005, -1.51390194,\n",
       "        -1.5136742 , -1.51348623, -1.5133323 , -1.51321816, -1.51311201,\n",
       "        -1.5130111 , -1.51291376, -1.51282538, -1.51274479, -1.51266645,\n",
       "        -1.51259005, -1.51251538, -1.51244232, -1.51237078, -1.5123007 ,\n",
       "        -1.51223205, -1.51216479, -1.51209891, -1.5120344 , -1.51197124,\n",
       "        -1.51190943, -1.51184896, -1.51178981, -1.51174944, -1.51172008,\n",
       "        -1.51169178, -1.51166452, -1.5116383 , -1.5116144 , -1.51161562,\n",
       "        -1.51163813, -1.51166178, -1.51168652, -1.51171232, -1.51173915,\n",
       "        -1.51176698, -1.51179579, -1.51182554, -1.51185622, -1.51188778,\n",
       "        -1.51192021, -1.51195348, -1.51198756, -1.51202244, -1.51205809,\n",
       "        -1.51209448, -1.5121316 , -1.51216943, -1.51220793, -1.5122471 ,\n",
       "        -1.51228692, -1.51233697, -1.51240796, -1.51249119, -1.5125875 ,\n",
       "        -1.51268972, -1.5127958 , -1.51290202, -1.51300835, -1.51311479,\n",
       "        -1.51322132, -1.51332795, -1.51343465, -1.51354143, -1.51364828,\n",
       "        -1.51375518, -1.51386213, -1.51396912, -1.51407615, -1.51418321,\n",
       "        -1.51429029, -1.51439739, -1.5145045 , -1.51461161, -1.51471872,\n",
       "        -1.51482582, -1.5149329 , -1.51503997, -1.51514701, -1.51525403,\n",
       "        -1.51536101, -1.51546795, -1.51557615, -1.51569132, -1.51580639,\n",
       "        -1.51592136, -1.51603624, -1.516151  , -1.51626566, -1.51638021,\n",
       "        -1.51649464, -1.51660895, -1.51672315, -1.51683721, -1.51695116]),\n",
       " 'split9_test_score': array([-1.65728993, -1.65666614, -1.6561915 , -1.65578402, -1.65542893,\n",
       "        -1.655118  , -1.65484702, -1.65466051, -1.65451384, -1.65439236,\n",
       "        -1.6543574 , -1.65434553, -1.65435241, -1.65437634, -1.6544158 ,\n",
       "        -1.65446944, -1.65453603, -1.6546145 , -1.65470384, -1.65480318,\n",
       "        -1.65491171, -1.65502871, -1.65515352, -1.65534417, -1.6555439 ,\n",
       "        -1.65577323, -1.65601876, -1.65626772, -1.65651981, -1.65677473,\n",
       "        -1.65703222, -1.65729203, -1.65755393, -1.65781773, -1.65808324,\n",
       "        -1.65835027, -1.65861868, -1.6588883 , -1.65915902, -1.65943069,\n",
       "        -1.65970321, -1.65999109, -1.66030524, -1.66061934, -1.66093334,\n",
       "        -1.66124717, -1.66156078, -1.66187412, -1.66218715, -1.66249982,\n",
       "        -1.66281209, -1.66312393, -1.6634353 , -1.66374617, -1.66405652,\n",
       "        -1.66436631, -1.66467552, -1.66498414, -1.66529213, -1.66559948,\n",
       "        -1.66590617, -1.66621219, -1.66651751, -1.66682214, -1.66712604,\n",
       "        -1.66742922, -1.66773166, -1.66803335, -1.66833428, -1.66863445,\n",
       "        -1.66893385, -1.66923246, -1.66953029, -1.66982733, -1.67012357,\n",
       "        -1.67041901, -1.67071364, -1.67100747, -1.67130049, -1.67159269,\n",
       "        -1.67188408, -1.67217925, -1.67248377, -1.67278736, -1.67309001,\n",
       "        -1.67339173, -1.67369252, -1.67399237, -1.6742913 , -1.67458929,\n",
       "        -1.67488928, -1.67520522, -1.67552458, -1.67584278, -1.67616767,\n",
       "        -1.67649501, -1.67682111, -1.677146  , -1.67746967, -1.67779215]),\n",
       " 'mean_test_score': array([-1.61935883, -1.61881795, -1.61818179, -1.61753176, -1.61690185,\n",
       "        -1.61628105, -1.61569003, -1.61512732, -1.61459602, -1.61410182,\n",
       "        -1.61365276, -1.61322196, -1.61283341, -1.61246659, -1.61211942,\n",
       "        -1.61179177, -1.61148363, -1.61119312, -1.61092108, -1.61066036,\n",
       "        -1.61041245, -1.6101785 , -1.60995613, -1.60975029, -1.60955123,\n",
       "        -1.60936078, -1.60918222, -1.60901314, -1.60885308, -1.60870114,\n",
       "        -1.60855411, -1.60841735, -1.60828643, -1.60816288, -1.60804901,\n",
       "        -1.60794634, -1.60785436, -1.60776698, -1.6076844 , -1.60760464,\n",
       "        -1.60752775, -1.60745691, -1.60739187, -1.60732917, -1.60727122,\n",
       "        -1.60721954, -1.60717645, -1.60713557, -1.60709736, -1.6070633 ,\n",
       "        -1.60703093, -1.60700019, -1.60697103, -1.60694855, -1.60693193,\n",
       "        -1.6069182 , -1.60690893, -1.60690521, -1.60690455, -1.60690613,\n",
       "        -1.60691128, -1.60692135, -1.60693546, -1.60695362, -1.60697519,\n",
       "        -1.6070082 , -1.6070435 , -1.60707929, -1.60711557, -1.60715254,\n",
       "        -1.60719365, -1.6072358 , -1.60727875, -1.60732424, -1.60737844,\n",
       "        -1.6074343 , -1.60749057, -1.60754793, -1.60760715, -1.60766837,\n",
       "        -1.60773717, -1.60780736, -1.60788026, -1.60795323, -1.60802628,\n",
       "        -1.60810242, -1.60817949, -1.60825674, -1.60833477, -1.60841446,\n",
       "        -1.60849494, -1.60857711, -1.60866055, -1.60874599, -1.60883407,\n",
       "        -1.60892598, -1.60901775, -1.60910938, -1.60920484, -1.60930338]),\n",
       " 'std_test_score': array([0.11543118, 0.11483921, 0.11447628, 0.11424367, 0.11406373,\n",
       "        0.11392477, 0.11379311, 0.11368907, 0.11361124, 0.11357737,\n",
       "        0.1135874 , 0.1136075 , 0.11366136, 0.1137282 , 0.113807  ,\n",
       "        0.1138923 , 0.11397897, 0.11406528, 0.11415027, 0.11423389,\n",
       "        0.11431461, 0.11439822, 0.11448591, 0.11458068, 0.11467626,\n",
       "        0.11477336, 0.11487737, 0.11498359, 0.11508919, 0.11519618,\n",
       "        0.11530343, 0.11540679, 0.11550809, 0.11561127, 0.1157139 ,\n",
       "        0.11580626, 0.11588717, 0.11596795, 0.11604857, 0.11612898,\n",
       "        0.11620934, 0.11629162, 0.11637507, 0.11645821, 0.11654107,\n",
       "        0.11661991, 0.11669653, 0.116773  , 0.11685017, 0.11692992,\n",
       "        0.11700937, 0.11708851, 0.11716734, 0.11725215, 0.11734195,\n",
       "        0.11743227, 0.11751763, 0.11759707, 0.11767378, 0.11774902,\n",
       "        0.11782018, 0.11788493, 0.11794433, 0.11800024, 0.11805507,\n",
       "        0.11810848, 0.11816071, 0.11821275, 0.11826459, 0.11831654,\n",
       "        0.11837304, 0.11842931, 0.11848534, 0.11853975, 0.1185932 ,\n",
       "        0.11864465, 0.11869587, 0.11874652, 0.11879653, 0.11884762,\n",
       "        0.11890182, 0.11895574, 0.11901201, 0.11906804, 0.11912383,\n",
       "        0.11918325, 0.11924356, 0.11930351, 0.11936268, 0.11942182,\n",
       "        0.11948009, 0.11953905, 0.11959909, 0.11966149, 0.11972643,\n",
       "        0.11979555, 0.11986432, 0.11993276, 0.12000269, 0.12006948]),\n",
       " 'rank_test_score': array([100,  99,  98,  97,  96,  95,  94,  93,  92,  91,  90,  89,  88,\n",
       "         87,  86,  85,  84,  83,  82,  81,  80,  79,  78,  77,  76,  75,\n",
       "         72,  69,  67,  64,  61,  59,  56,  53,  51,  48,  46,  44,  42,\n",
       "         39,  37,  35,  33,  31,  28,  26,  24,  22,  20,  18,  16,  14,\n",
       "         12,  10,   8,   6,   4,   2,   1,   3,   5,   7,   9,  11,  13,\n",
       "         15,  17,  19,  21,  23,  25,  27,  29,  30,  32,  34,  36,  38,\n",
       "         40,  41,  43,  45,  47,  49,  50,  52,  54,  55,  57,  58,  60,\n",
       "         62,  63,  65,  66,  68,  70,  71,  73,  74])}"
      ]
     },
     "execution_count": 36,
     "metadata": {},
     "output_type": "execute_result"
    }
   ],
   "source": [
    "grid_search.cv_results_"
   ]
  },
  {
   "cell_type": "code",
   "execution_count": 39,
   "id": "aecc6676",
   "metadata": {},
   "outputs": [],
   "source": [
    "def report(results,n_top=3):\n",
    "    for i in range(1,n_top+1):\n",
    "        candidates=np.flatnonzero(results['rank_test_score']==i)\n",
    "        for candidate in candidates:\n",
    "            print(\"Model with rank: {0}\".format(i))\n",
    "            print(\"Mean Validation Score: {0:.6f} (std: {1:.6f})\".format(\n",
    "                    results['mean_test_score'][candidate],\n",
    "                    results['std_test_score'][candidate]))\n",
    "            print(\"Parameters: {0}\".format(results['params'][candidate]))\n",
    "            print(\"\")"
   ]
  },
  {
   "cell_type": "code",
   "execution_count": 40,
   "id": "fe68c4dc",
   "metadata": {},
   "outputs": [
    {
     "name": "stdout",
     "output_type": "stream",
     "text": [
      "Model with rank: 1\n",
      "Mean Validation Score: -1.606905 (std: 0.117674)\n",
      "Parameters: {'alpha': 59.0}\n",
      "\n",
      "Model with rank: 2\n",
      "Mean Validation Score: -1.606905 (std: 0.117597)\n",
      "Parameters: {'alpha': 58.0}\n",
      "\n",
      "Model with rank: 3\n",
      "Mean Validation Score: -1.606906 (std: 0.117749)\n",
      "Parameters: {'alpha': 60.0}\n",
      "\n",
      "Model with rank: 4\n",
      "Mean Validation Score: -1.606909 (std: 0.117518)\n",
      "Parameters: {'alpha': 57.0}\n",
      "\n",
      "Model with rank: 5\n",
      "Mean Validation Score: -1.606911 (std: 0.117820)\n",
      "Parameters: {'alpha': 61.0}\n",
      "\n"
     ]
    }
   ],
   "source": [
    "report(grid_search.cv_results_,5)"
   ]
  },
  {
   "cell_type": "code",
   "execution_count": 41,
   "id": "d3534d2b",
   "metadata": {},
   "outputs": [],
   "source": [
    "test_pred=grid_search.predict(x_test)"
   ]
  },
  {
   "cell_type": "code",
   "execution_count": 42,
   "id": "8706190a",
   "metadata": {},
   "outputs": [],
   "source": [
    "pd.DataFrame(test_pred).to_csv(\"mySubmission_ridge\",index=False)"
   ]
  },
  {
   "cell_type": "markdown",
   "id": "50da9372",
   "metadata": {},
   "source": [
    "# For looking at coefficients "
   ]
  },
  {
   "cell_type": "code",
   "execution_count": 43,
   "id": "cf0e6613",
   "metadata": {},
   "outputs": [
    {
     "data": {
      "text/plain": [
       "Ridge(alpha=59.0)"
      ]
     },
     "execution_count": 43,
     "metadata": {},
     "output_type": "execute_result"
    }
   ],
   "source": [
    "grid_search.best_estimator_"
   ]
  },
  {
   "cell_type": "code",
   "execution_count": 44,
   "id": "08cc65c9",
   "metadata": {},
   "outputs": [],
   "source": [
    "ridge_model=grid_search.best_estimator_"
   ]
  },
  {
   "cell_type": "code",
   "execution_count": 45,
   "id": "fddae1a8",
   "metadata": {},
   "outputs": [
    {
     "data": {
      "text/plain": [
       "Ridge(alpha=59.0)"
      ]
     },
     "execution_count": 45,
     "metadata": {},
     "output_type": "execute_result"
    }
   ],
   "source": [
    "ridge_model.fit(x_train,y_train)"
   ]
  },
  {
   "cell_type": "code",
   "execution_count": 46,
   "id": "2f039e7c",
   "metadata": {},
   "outputs": [
    {
     "data": {
      "text/plain": [
       "[('obj_to_num__Amount.Requested', 0.0001659056567176454),\n",
       " ('obj_to_num__Open.CREDIT.Lines', -0.037908063378880995),\n",
       " ('obj_to_num__Revolving.CREDIT.Balance', -3.1637569333467703e-06),\n",
       " ('dtlr__Debt.To.Income.Ratio', -0.0008409375022167036),\n",
       " ('obj_to_dum__Loan.Length_36 months', -1.3957035074401458),\n",
       " ('obj_to_dum__Loan.Length_60 months', 1.487989718632789),\n",
       " ('obj_to_dum__Loan.Purpose_debt_consolidation', -0.32395293779591755),\n",
       " ('obj_to_dum__Loan.Purpose_credit_card', -0.3998778113551296),\n",
       " ('obj_to_dum__Loan.Purpose_other', 0.3608939940679972),\n",
       " ('obj_to_dum__Loan.Purpose_home_improvement', -0.17515395397223982),\n",
       " ('obj_to_dum__Loan.Purpose_major_purchase', 0.004410987700190584),\n",
       " ('obj_to_dum__Loan.Purpose_small_business', 0.10286757148900036),\n",
       " ('obj_to_dum__Loan.Purpose_car', -0.018641873174348147),\n",
       " ('obj_to_dum__Loan.Purpose_wedding', -0.21984698028510624),\n",
       " ('obj_to_dum__Loan.Purpose_medical', -0.054076034285069456),\n",
       " ('obj_to_dum__Loan.Purpose_moving', 0.331535264489298),\n",
       " ('obj_to_dum__State_CA', -0.09403555402662366),\n",
       " ('obj_to_dum__State_NY', -0.030494840602455345),\n",
       " ('obj_to_dum__State_FL', 0.01575633323567901),\n",
       " ('obj_to_dum__State_TX', 0.38560903292376986),\n",
       " ('obj_to_dum__State_PA', -0.22712345539833836),\n",
       " ('obj_to_dum__State_IL', -0.28413013178150953),\n",
       " ('obj_to_dum__State_GA', -0.0549311638706692),\n",
       " ('obj_to_dum__State_NJ', -0.16829932527213376),\n",
       " ('obj_to_dum__State_VA', -0.009136012735517975),\n",
       " ('obj_to_dum__State_MA', -0.018586395991582867),\n",
       " ('obj_to_dum__State_NC', -0.1934207099361239),\n",
       " ('obj_to_dum__State_OH', -0.08003331072640499),\n",
       " ('obj_to_dum__State_MD', 0.024873219799855056),\n",
       " ('obj_to_dum__State_CO', 0.07340249018466713),\n",
       " ('obj_to_dum__State_WA', -0.06640568958694186),\n",
       " ('obj_to_dum__State_CT', 0.1932682539468613),\n",
       " ('obj_to_dum__State_AZ', 0.20044843602609427),\n",
       " ('obj_to_dum__State_MI', -0.005164120495478342),\n",
       " ('obj_to_dum__State_AL', 0.019187536475461633),\n",
       " ('obj_to_dum__State_MN', -0.02896525510501819),\n",
       " ('obj_to_dum__State_MO', -0.08594261077792634),\n",
       " ('obj_to_dum__State_NV', -0.007186846051809737),\n",
       " ('obj_to_dum__State_SC', 0.005806491518185433),\n",
       " ('obj_to_dum__State_WI', 0.03803000951545347),\n",
       " ('obj_to_dum__State_OR', 0.030837040611953845),\n",
       " ('obj_to_dum__State_KS', 0.0819741342889803),\n",
       " ('obj_to_dum__Home.Ownership_MORTGAGE', -0.23777154916014967),\n",
       " ('obj_to_dum__Home.Ownership_RENT', -0.028429075089254605),\n",
       " ('obj_to_dum__Home.Ownership_OWN', 0.05564423204976119),\n",
       " ('obj_to_dum__Employment.Length_10+ years', 0.13864630050571988),\n",
       " ('obj_to_dum__Employment.Length_< 1 year', -0.00204399176159973),\n",
       " ('obj_to_dum__Employment.Length_2 years', -0.024718914690071914),\n",
       " ('obj_to_dum__Employment.Length_3 years', -0.14172391162541487),\n",
       " ('obj_to_dum__Employment.Length_5 years', 0.17789863449206877),\n",
       " ('obj_to_dum__Employment.Length_4 years', 0.057142921997212465),\n",
       " ('obj_to_dum__Employment.Length_1 year', -0.11119223620676388),\n",
       " ('obj_to_dum__Employment.Length_6 years', 0.02922143091252156),\n",
       " ('obj_to_dum__Employment.Length_7 years', -0.01485320633227004),\n",
       " ('obj_to_dum__Employment.Length_8 years', -0.046763441155362365),\n",
       " ('obj_to_dum__Employment.Length_missing', 0.12910146206418155),\n",
       " ('obj_to_dum__Employment.Length_9 years', -0.18431885490248442),\n",
       " ('num__Monthly.Income', -2.9008866499306857e-05),\n",
       " ('num__Inquiries.in.the.Last.6.Months', 0.3377049319932488),\n",
       " ('fico__fico', -0.08656924682909299)]"
      ]
     },
     "execution_count": 46,
     "metadata": {},
     "output_type": "execute_result"
    }
   ],
   "source": [
    "list(zip(data_pipe.get_feature_names(),ridge_model.coef_))"
   ]
  },
  {
   "cell_type": "code",
   "execution_count": 48,
   "id": "b1ac5dd6",
   "metadata": {},
   "outputs": [
    {
     "data": {
      "text/plain": [
       "array([ 9.69911944e-01,  9.81754592e-01,  9.66714488e-01, -2.24068261e-01,\n",
       "       -9.35924306e-01,  3.00912960e+00,  2.42035065e+00,  2.23040215e+00,\n",
       "        8.89281796e-02,  3.96951230e+00, -9.58390332e+01, -2.56858519e+00,\n",
       "        2.90353952e+01,  4.41013943e+00,  1.10691246e+01,  2.17615123e+00,\n",
       "        2.12437158e+00,  6.18614703e+00, -4.73160592e+00,  1.22902469e+00,\n",
       "        2.06149061e+00,  2.01208718e+00,  3.26002016e+00,  2.25164303e+00,\n",
       "        1.72056498e+01,  5.82457716e+00,  2.56508150e+00,  2.48868477e+00,\n",
       "       -3.13174013e+00,  5.59185867e-01,  4.02365760e+00,  2.11403463e+00,\n",
       "        1.89664509e+00,  1.90090348e+01, -3.24127331e+00,  6.13615270e+00,\n",
       "        4.07951368e+00,  3.25241033e+01, -6.76125999e+00,  2.89372796e-01,\n",
       "        6.07010219e-01,  2.26635930e+00,  1.00887444e+01,  7.63428021e+01,\n",
       "       -3.71155295e+01,  3.79515587e+00, -1.72319034e+02, -1.16329695e+01,\n",
       "       -1.06550764e+00,  3.27926770e+00,  7.38888277e+00, -2.16931393e+00,\n",
       "        1.33033061e+01, -2.55220888e+01, -5.54669374e+00,  4.82181500e+00,\n",
       "       -1.63740614e-01,  9.00537919e-01,  9.97447808e-01,  9.98305280e-01])"
      ]
     },
     "execution_count": 48,
     "metadata": {},
     "output_type": "execute_result"
    }
   ],
   "source": [
    "ln.coef_/ridge_model.coef_"
   ]
  },
  {
   "cell_type": "markdown",
   "id": "956550fa",
   "metadata": {},
   "source": [
    "# Lasso Regression"
   ]
  },
  {
   "cell_type": "code",
   "execution_count": 49,
   "id": "8c2c327b",
   "metadata": {},
   "outputs": [],
   "source": [
    "lambdas=np.linspace(1,10,100)\n",
    "\n",
    "model=Lasso(fit_intercept=True)\n",
    "\n",
    "params={'alpha':lambdas}"
   ]
  },
  {
   "cell_type": "code",
   "execution_count": 50,
   "id": "04412794",
   "metadata": {},
   "outputs": [],
   "source": [
    "grid_search=GridSearchCV(model,\n",
    "                        param_grid=params,\n",
    "                        cv=10,\n",
    "                        scoring='neg_mean_absolute_error',\n",
    "                        verbose=20,n_jobs=-1)"
   ]
  },
  {
   "cell_type": "code",
   "execution_count": 51,
   "id": "1189f7f7",
   "metadata": {},
   "outputs": [
    {
     "name": "stdout",
     "output_type": "stream",
     "text": [
      "Fitting 10 folds for each of 100 candidates, totalling 1000 fits\n"
     ]
    },
    {
     "data": {
      "text/plain": [
       "GridSearchCV(cv=10, estimator=Lasso(), n_jobs=-1,\n",
       "             param_grid={'alpha': array([ 1.        ,  1.09090909,  1.18181818,  1.27272727,  1.36363636,\n",
       "        1.45454545,  1.54545455,  1.63636364,  1.72727273,  1.81818182,\n",
       "        1.90909091,  2.        ,  2.09090909,  2.18181818,  2.27272727,\n",
       "        2.36363636,  2.45454545,  2.54545455,  2.63636364,  2.72727273,\n",
       "        2.81818182,  2.90909091,  3.        ,  3.09090909,  3.18181818,\n",
       "        3.27272727,  3.36363636,  3.4...\n",
       "        7.36363636,  7.45454545,  7.54545455,  7.63636364,  7.72727273,\n",
       "        7.81818182,  7.90909091,  8.        ,  8.09090909,  8.18181818,\n",
       "        8.27272727,  8.36363636,  8.45454545,  8.54545455,  8.63636364,\n",
       "        8.72727273,  8.81818182,  8.90909091,  9.        ,  9.09090909,\n",
       "        9.18181818,  9.27272727,  9.36363636,  9.45454545,  9.54545455,\n",
       "        9.63636364,  9.72727273,  9.81818182,  9.90909091, 10.        ])},\n",
       "             scoring='neg_mean_absolute_error', verbose=20)"
      ]
     },
     "execution_count": 51,
     "metadata": {},
     "output_type": "execute_result"
    }
   ],
   "source": [
    "grid_search.fit(x_train,y_train)"
   ]
  },
  {
   "cell_type": "code",
   "execution_count": 52,
   "id": "bf00d9de",
   "metadata": {},
   "outputs": [
    {
     "data": {
      "text/plain": [
       "Lasso()"
      ]
     },
     "execution_count": 52,
     "metadata": {},
     "output_type": "execute_result"
    }
   ],
   "source": [
    "grid_search.best_estimator_"
   ]
  },
  {
   "cell_type": "code",
   "execution_count": 53,
   "id": "7258c87a",
   "metadata": {},
   "outputs": [],
   "source": [
    "lambdas=np.linspace(0.001,2,100)\n",
    "\n",
    "params={'alpha':lambdas}"
   ]
  },
  {
   "cell_type": "code",
   "execution_count": 54,
   "id": "96423bd9",
   "metadata": {},
   "outputs": [],
   "source": [
    "grid_search=GridSearchCV(model,\n",
    "                        param_grid=params,\n",
    "                        cv=10,\n",
    "                        scoring='neg_mean_absolute_error')"
   ]
  },
  {
   "cell_type": "code",
   "execution_count": 55,
   "id": "a6b007a0",
   "metadata": {},
   "outputs": [
    {
     "data": {
      "text/plain": [
       "GridSearchCV(cv=10, estimator=Lasso(),\n",
       "             param_grid={'alpha': array([1.00000000e-03, 2.11919192e-02, 4.13838384e-02, 6.15757576e-02,\n",
       "       8.17676768e-02, 1.01959596e-01, 1.22151515e-01, 1.42343434e-01,\n",
       "       1.62535354e-01, 1.82727273e-01, 2.02919192e-01, 2.23111111e-01,\n",
       "       2.43303030e-01, 2.63494949e-01, 2.83686869e-01, 3.03878788e-01,\n",
       "       3.24070707e-01, 3.44262626e-01, 3.64454545e-01, 3...\n",
       "       1.53558586e+00, 1.55577778e+00, 1.57596970e+00, 1.59616162e+00,\n",
       "       1.61635354e+00, 1.63654545e+00, 1.65673737e+00, 1.67692929e+00,\n",
       "       1.69712121e+00, 1.71731313e+00, 1.73750505e+00, 1.75769697e+00,\n",
       "       1.77788889e+00, 1.79808081e+00, 1.81827273e+00, 1.83846465e+00,\n",
       "       1.85865657e+00, 1.87884848e+00, 1.89904040e+00, 1.91923232e+00,\n",
       "       1.93942424e+00, 1.95961616e+00, 1.97980808e+00, 2.00000000e+00])},\n",
       "             scoring='neg_mean_absolute_error')"
      ]
     },
     "execution_count": 55,
     "metadata": {},
     "output_type": "execute_result"
    }
   ],
   "source": [
    "grid_search.fit(x_train,y_train)"
   ]
  },
  {
   "cell_type": "code",
   "execution_count": 56,
   "id": "7ed16862",
   "metadata": {},
   "outputs": [
    {
     "data": {
      "text/plain": [
       "Lasso(alpha=0.021191919191919192)"
      ]
     },
     "execution_count": 56,
     "metadata": {},
     "output_type": "execute_result"
    }
   ],
   "source": [
    "grid_search.best_estimator_"
   ]
  },
  {
   "cell_type": "code",
   "execution_count": 57,
   "id": "83a42394",
   "metadata": {},
   "outputs": [
    {
     "name": "stdout",
     "output_type": "stream",
     "text": [
      "Model with rank: 1\n",
      "Mean Validation Score: -1.600706 (std: 0.123574)\n",
      "Parameters: {'alpha': 0.021191919191919192}\n",
      "\n",
      "Model with rank: 2\n",
      "Mean Validation Score: -1.608777 (std: 0.129103)\n",
      "Parameters: {'alpha': 0.041383838383838384}\n",
      "\n",
      "Model with rank: 3\n",
      "Mean Validation Score: -1.615683 (std: 0.129650)\n",
      "Parameters: {'alpha': 0.061575757575757575}\n",
      "\n",
      "Model with rank: 4\n",
      "Mean Validation Score: -1.616717 (std: 0.115096)\n",
      "Parameters: {'alpha': 0.001}\n",
      "\n",
      "Model with rank: 5\n",
      "Mean Validation Score: -1.620303 (std: 0.130280)\n",
      "Parameters: {'alpha': 0.08176767676767677}\n",
      "\n"
     ]
    }
   ],
   "source": [
    "report(grid_search.cv_results_,5)"
   ]
  },
  {
   "cell_type": "code",
   "execution_count": 58,
   "id": "d78ae772",
   "metadata": {},
   "outputs": [],
   "source": [
    "lasso_model=grid_search.best_estimator_"
   ]
  },
  {
   "cell_type": "code",
   "execution_count": 59,
   "id": "ca940d45",
   "metadata": {},
   "outputs": [
    {
     "data": {
      "text/plain": [
       "Lasso(alpha=0.021191919191919192)"
      ]
     },
     "execution_count": 59,
     "metadata": {},
     "output_type": "execute_result"
    }
   ],
   "source": [
    "lasso_model.fit(x_train,y_train)"
   ]
  },
  {
   "cell_type": "code",
   "execution_count": 60,
   "id": "9c713013",
   "metadata": {},
   "outputs": [
    {
     "data": {
      "text/plain": [
       "72.05485736242387"
      ]
     },
     "execution_count": 60,
     "metadata": {},
     "output_type": "execute_result"
    }
   ],
   "source": [
    "lasso_model.intercept_"
   ]
  },
  {
   "cell_type": "code",
   "execution_count": 62,
   "id": "5878138b",
   "metadata": {},
   "outputs": [
    {
     "data": {
      "text/plain": [
       "[('obj_to_num__Amount.Requested', 0.00016002823754526234),\n",
       " ('obj_to_num__Open.CREDIT.Lines', -0.0380807516599849),\n",
       " ('obj_to_num__Revolving.CREDIT.Balance', -3.190939063194295e-06),\n",
       " ('dtlr__Debt.To.Income.Ratio', -0.00035647063732539624),\n",
       " ('obj_to_dum__Loan.Length_36 months', -0.0),\n",
       " ('obj_to_dum__Loan.Length_60 months', 3.03420127536005),\n",
       " ('obj_to_dum__Loan.Purpose_debt_consolidation', -0.17001965888491824),\n",
       " ('obj_to_dum__Loan.Purpose_credit_card', -0.2136884995089826),\n",
       " ('obj_to_dum__Loan.Purpose_other', 0.31957133590263687),\n",
       " ('obj_to_dum__Loan.Purpose_home_improvement', -0.0),\n",
       " ('obj_to_dum__Loan.Purpose_major_purchase', 0.0),\n",
       " ('obj_to_dum__Loan.Purpose_small_business', 0.0),\n",
       " ('obj_to_dum__Loan.Purpose_car', 0.0),\n",
       " ('obj_to_dum__Loan.Purpose_wedding', -0.0),\n",
       " ('obj_to_dum__Loan.Purpose_medical', -0.0),\n",
       " ('obj_to_dum__Loan.Purpose_moving', 0.0),\n",
       " ('obj_to_dum__State_CA', -0.0),\n",
       " ('obj_to_dum__State_NY', 0.0),\n",
       " ('obj_to_dum__State_FL', 0.0),\n",
       " ('obj_to_dum__State_TX', 0.24836489207892762),\n",
       " ('obj_to_dum__State_PA', -0.0),\n",
       " ('obj_to_dum__State_IL', -0.0),\n",
       " ('obj_to_dum__State_GA', -0.0),\n",
       " ('obj_to_dum__State_NJ', -0.0),\n",
       " ('obj_to_dum__State_VA', 0.0),\n",
       " ('obj_to_dum__State_MA', 0.0),\n",
       " ('obj_to_dum__State_NC', -0.0),\n",
       " ('obj_to_dum__State_OH', -0.0),\n",
       " ('obj_to_dum__State_MD', 0.0),\n",
       " ('obj_to_dum__State_CO', 0.0),\n",
       " ('obj_to_dum__State_WA', -0.0),\n",
       " ('obj_to_dum__State_CT', 0.0),\n",
       " ('obj_to_dum__State_AZ', 0.0),\n",
       " ('obj_to_dum__State_MI', 0.0),\n",
       " ('obj_to_dum__State_AL', 0.0),\n",
       " ('obj_to_dum__State_MN', -0.0),\n",
       " ('obj_to_dum__State_MO', -0.0),\n",
       " ('obj_to_dum__State_NV', 0.0),\n",
       " ('obj_to_dum__State_SC', 0.0),\n",
       " ('obj_to_dum__State_WI', 0.0),\n",
       " ('obj_to_dum__State_OR', 0.0),\n",
       " ('obj_to_dum__State_KS', 0.0),\n",
       " ('obj_to_dum__Home.Ownership_MORTGAGE', -0.1466133897381157),\n",
       " ('obj_to_dum__Home.Ownership_RENT', 0.0),\n",
       " ('obj_to_dum__Home.Ownership_OWN', 0.0),\n",
       " ('obj_to_dum__Employment.Length_10+ years', 0.02490400117318291),\n",
       " ('obj_to_dum__Employment.Length_< 1 year', 0.0),\n",
       " ('obj_to_dum__Employment.Length_2 years', -0.0),\n",
       " ('obj_to_dum__Employment.Length_3 years', -0.0),\n",
       " ('obj_to_dum__Employment.Length_5 years', 0.0),\n",
       " ('obj_to_dum__Employment.Length_4 years', 0.0),\n",
       " ('obj_to_dum__Employment.Length_1 year', -0.0),\n",
       " ('obj_to_dum__Employment.Length_6 years', 0.0),\n",
       " ('obj_to_dum__Employment.Length_7 years', -0.0),\n",
       " ('obj_to_dum__Employment.Length_8 years', -0.0),\n",
       " ('obj_to_dum__Employment.Length_missing', 0.0),\n",
       " ('obj_to_dum__Employment.Length_9 years', -0.0),\n",
       " ('num__Monthly.Income', -2.662127603641003e-05),\n",
       " ('num__Inquiries.in.the.Last.6.Months', 0.32636592876654963),\n",
       " ('fico__fico', -0.08645124131434413)]"
      ]
     },
     "execution_count": 62,
     "metadata": {},
     "output_type": "execute_result"
    }
   ],
   "source": [
    "list(zip(data_pipe.get_feature_names(),lasso_model.coef_))"
   ]
  },
  {
   "cell_type": "code",
   "execution_count": 63,
   "id": "d29ce9cf",
   "metadata": {},
   "outputs": [
    {
     "data": {
      "text/plain": [
       "46"
      ]
     },
     "execution_count": 63,
     "metadata": {},
     "output_type": "execute_result"
    }
   ],
   "source": [
    "(lasso_model.coef_==0).sum()"
   ]
  },
  {
   "cell_type": "code",
   "execution_count": null,
   "id": "932a60f4",
   "metadata": {},
   "outputs": [],
   "source": []
  }
 ],
 "metadata": {
  "kernelspec": {
   "display_name": "Python 3 (ipykernel)",
   "language": "python",
   "name": "python3"
  },
  "language_info": {
   "codemirror_mode": {
    "name": "ipython",
    "version": 3
   },
   "file_extension": ".py",
   "mimetype": "text/x-python",
   "name": "python",
   "nbconvert_exporter": "python",
   "pygments_lexer": "ipython3",
   "version": "3.9.7"
  }
 },
 "nbformat": 4,
 "nbformat_minor": 5
}
